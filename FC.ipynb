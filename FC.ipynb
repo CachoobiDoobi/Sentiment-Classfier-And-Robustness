{
 "cells": [
  {
   "cell_type": "code",
   "execution_count": 94,
   "metadata": {
    "ExecuteTime": {
     "end_time": "2023-06-13T16:18:09.644212Z",
     "start_time": "2023-06-13T16:18:09.113440100Z"
    }
   },
   "outputs": [],
   "source": [
    "import matplotlib.pyplot as plt\n",
    "import numpy as np\n",
    "import torch\n",
    "import torch.nn as nn\n",
    "import torch.nn.functional as F\n",
    "import torch.optim as optim\n",
    "import torchtext.vocab as vocab\n",
    "from torchtext.data import get_tokenizer\n",
    "from torchtext.datasets import SST2\n",
    "from torch.utils.data import DataLoader\n",
    "from torchtext.vocab import build_vocab_from_iterator\n",
    "import spacy\n",
    "import nlpaug.augmenter.word as naw\n",
    "nlp = spacy.load(\"en_core_web_sm\")\n",
    "import OpenAttack as oa"
   ]
  },
  {
   "cell_type": "code",
   "execution_count": 95,
   "metadata": {
    "ExecuteTime": {
     "end_time": "2023-06-13T16:18:09.647207500Z",
     "start_time": "2023-06-13T16:18:09.644212Z"
    }
   },
   "outputs": [],
   "source": [
    "device = torch.device('cuda' if torch.cuda.is_available() else 'cpu')\n",
    "%run models/Linear.ipynb"
   ]
  },
  {
   "cell_type": "code",
   "execution_count": 96,
   "outputs": [],
   "source": [
    "train_iter = SST2(split=\"train\")\n",
    "val_iter = SST2(split=\"dev\")\n",
    "# test_iter = SST2(split=\"test\")\n",
    "\n",
    "tokenizer = get_tokenizer('spacy')\n",
    "def yield_tokens(data_iter):\n",
    "    for text, _ in data_iter:\n",
    "        yield tokenizer(text)\n",
    "\n",
    "vocabulary = build_vocab_from_iterator(yield_tokens(train_iter), specials=[\"<unk>\"])\n",
    "vocabulary.set_default_index(vocabulary[\"<unk>\"])"
   ],
   "metadata": {
    "collapsed": false,
    "ExecuteTime": {
     "end_time": "2023-06-13T16:18:14.356278900Z",
     "start_time": "2023-06-13T16:18:09.647207500Z"
    }
   }
  },
  {
   "cell_type": "code",
   "execution_count": 97,
   "outputs": [],
   "source": [
    "glove_vectors = vocab.GloVe(name='6B', dim=100)\n",
    "vocabulary.vectors = glove_vectors.get_vecs_by_tokens(vocabulary.get_itos())"
   ],
   "metadata": {
    "collapsed": false,
    "ExecuteTime": {
     "end_time": "2023-06-13T16:18:14.821428900Z",
     "start_time": "2023-06-13T16:18:14.359270800Z"
    }
   }
  },
  {
   "cell_type": "code",
   "execution_count": 98,
   "outputs": [],
   "source": [
    "BATCH_SIZE = 128\n",
    "MAX_VOCAB_SIZE = 400000\n",
    "aug = naw.AntonymAug()\n",
    "\n",
    "\n",
    "def collate(x):\n",
    "    batch = []\n",
    "    for item in x:\n",
    "        seq = []\n",
    "        for word in tokenizer(item[0]):\n",
    "            seq.append(vocabulary[word])\n",
    "        batch.append(torch.tensor(seq))\n",
    "    l = torch.tensor([item[1] for item in x]).unsqueeze(dim=1)\n",
    "    return nn.utils.rnn.pad_sequence(batch, padding_value=vocabulary[\"<pad>\"], batch_first=True), l\n",
    "\n",
    "def collate_adv(x):\n",
    "    batch = []\n",
    "    for item in x:\n",
    "        seq = []\n",
    "        sentence = aug.augment(item[0])[0]\n",
    "        for word in tokenizer(sentence):\n",
    "            seq.append(vocabulary[word])\n",
    "        batch.append(torch.tensor(seq))\n",
    "    l = torch.tensor([item[1] for item in x]).unsqueeze(dim=1)\n",
    "    return nn.utils.rnn.pad_sequence(batch, padding_value=vocabulary[\"<pad>\"], batch_first=True), l"
   ],
   "metadata": {
    "collapsed": false,
    "ExecuteTime": {
     "end_time": "2023-06-13T16:18:14.831273600Z",
     "start_time": "2023-06-13T16:18:14.828232400Z"
    }
   }
  },
  {
   "cell_type": "code",
   "execution_count": 99,
   "outputs": [],
   "source": [
    "train_loader = DataLoader(train_iter, batch_size=BATCH_SIZE, collate_fn= lambda x : collate(x))\n",
    "val_loader = DataLoader(val_iter, batch_size=BATCH_SIZE, collate_fn= lambda x : collate(x))\n",
    "\n",
    "val_adv_loader = DataLoader(val_iter, batch_size=BATCH_SIZE, collate_fn= lambda x : collate_adv(x))\n",
    "# test_loader = DataLoader(test_iter, batch_size=BATCH_SIZE, collate_fn= lambda x : func(x))"
   ],
   "metadata": {
    "collapsed": false,
    "ExecuteTime": {
     "end_time": "2023-06-13T16:18:14.838264200Z",
     "start_time": "2023-06-13T16:18:14.834267800Z"
    }
   }
  },
  {
   "cell_type": "code",
   "execution_count": 101,
   "metadata": {
    "ExecuteTime": {
     "end_time": "2023-06-13T16:18:40.030573400Z",
     "start_time": "2023-06-13T16:18:40.001227100Z"
    }
   },
   "outputs": [],
   "source": [
    "EMBEDDING_DIM = 100\n",
    "HIDDEN_DIM = 256\n",
    "OUTPUT_DIM = 2\n",
    "\n",
    "model = FC(vocabulary, EMBEDDING_DIM, HIDDEN_DIM, OUTPUT_DIM)"
   ]
  },
  {
   "cell_type": "code",
   "execution_count": 102,
   "metadata": {
    "ExecuteTime": {
     "end_time": "2023-06-13T16:18:40.653665200Z",
     "start_time": "2023-06-13T16:18:40.637502Z"
    }
   },
   "outputs": [
    {
     "name": "stdout",
     "output_type": "stream",
     "text": [
      "The model has 26,370 trainable parameters\n"
     ]
    },
    {
     "data": {
      "text/plain": "FC(\n  (embedding): Embedding(13888, 100)\n  (fc): Linear(in_features=100, out_features=256, bias=True)\n  (fc2): Linear(in_features=256, out_features=2, bias=True)\n  (relu): ReLU()\n)"
     },
     "execution_count": 102,
     "metadata": {},
     "output_type": "execute_result"
    }
   ],
   "source": [
    "def count_parameters(model):\n",
    "    return sum(p.numel() for p in model.parameters() if p.requires_grad)\n",
    "\n",
    "\n",
    "print(f'The model has {count_parameters(model):,} trainable parameters')\n",
    "model"
   ]
  },
  {
   "cell_type": "markdown",
   "metadata": {},
   "source": [
    "## Train the Model"
   ]
  },
  {
   "cell_type": "code",
   "execution_count": 103,
   "metadata": {
    "ExecuteTime": {
     "end_time": "2023-06-13T16:18:41.507617900Z",
     "start_time": "2023-06-13T16:18:41.483780700Z"
    }
   },
   "outputs": [],
   "source": [
    "optimizer = optim.Adam(model.parameters(), lr=5e-3)\n",
    "criterion = nn.CrossEntropyLoss()\n",
    "model = model.to(device)\n",
    "criterion = criterion.to(device)"
   ]
  },
  {
   "cell_type": "code",
   "execution_count": 104,
   "metadata": {
    "ExecuteTime": {
     "end_time": "2023-06-13T16:18:41.828768500Z",
     "start_time": "2023-06-13T16:18:41.798315900Z"
    }
   },
   "outputs": [],
   "source": [
    "def binary_accuracy(preds, y):\n",
    "    \"\"\"\n",
    "    Returns accuracy per batch, i.e. if you get 8/10 right, this returns 0.8, NOT 8\n",
    "    \"\"\"\n",
    "\n",
    "    #round predictions to the closest integer\n",
    "    correct = (preds.argmax(dim=1) == y.argmax(dim=1)).float()  #convert into float for division\n",
    "    acc = correct.sum() / len(correct)\n",
    "    return acc"
   ]
  },
  {
   "cell_type": "code",
   "execution_count": 105,
   "metadata": {
    "ExecuteTime": {
     "end_time": "2023-06-13T16:18:42.093541200Z",
     "start_time": "2023-06-13T16:18:42.063008300Z"
    }
   },
   "outputs": [],
   "source": [
    "def train(model, iterator, optimizer, criterion):\n",
    "    epoch_loss = 0\n",
    "    epoch_acc = 0\n",
    "    c = 0\n",
    "    model.train()\n",
    "\n",
    "    for inputs, labels in iterator:\n",
    "        c+=1\n",
    "        inputs = inputs.to(device)\n",
    "        labels = labels.to(device)\n",
    "\n",
    "        optimizer.zero_grad()\n",
    "        predictions = model(inputs).float()\n",
    "\n",
    "        targets = F.one_hot(labels.squeeze(), num_classes=2).float()\n",
    "\n",
    "\n",
    "        loss = criterion(predictions, targets)\n",
    "\n",
    "        acc = binary_accuracy(predictions, targets)\n",
    "\n",
    "        loss.backward()\n",
    "\n",
    "        optimizer.step()\n",
    "\n",
    "        epoch_loss += loss.item()\n",
    "        epoch_acc += acc.item()\n",
    "    return epoch_loss / c, epoch_acc / c"
   ]
  },
  {
   "cell_type": "code",
   "execution_count": 106,
   "metadata": {
    "ExecuteTime": {
     "end_time": "2023-06-13T16:18:42.527173300Z",
     "start_time": "2023-06-13T16:18:42.500060300Z"
    }
   },
   "outputs": [],
   "source": [
    "def evaluate(model, iterator, criterion):\n",
    "    epoch_loss = 0\n",
    "    epoch_acc = 0\n",
    "\n",
    "    model.eval()\n",
    "\n",
    "    with torch.no_grad():\n",
    "        c = 0\n",
    "        for inputs,labels in iterator:\n",
    "            c +=1\n",
    "            inputs = inputs.to(device)\n",
    "            labels = labels.to(device)\n",
    "\n",
    "            predictions = model(inputs).float()\n",
    "            targets = F.one_hot(labels.squeeze().long(), num_classes=2).float()\n",
    "            loss = criterion(predictions, targets)\n",
    "\n",
    "            acc = binary_accuracy(predictions, targets)\n",
    "\n",
    "            epoch_loss += loss.item()\n",
    "            epoch_acc += acc.item()\n",
    "    return epoch_loss / c, epoch_acc / c"
   ]
  },
  {
   "cell_type": "code",
   "execution_count": 107,
   "metadata": {
    "ExecuteTime": {
     "end_time": "2023-06-13T16:18:42.807886300Z",
     "start_time": "2023-06-13T16:18:42.787075Z"
    }
   },
   "outputs": [],
   "source": [
    "import time\n",
    "\n",
    "\n",
    "def epoch_time(start_time, end_time):\n",
    "    elapsed_time = end_time - start_time\n",
    "    elapsed_mins = int(elapsed_time / 60)\n",
    "    elapsed_secs = int(elapsed_time - (elapsed_mins * 60))\n",
    "    return elapsed_mins, elapsed_secs"
   ]
  },
  {
   "cell_type": "code",
   "execution_count": 108,
   "metadata": {
    "ExecuteTime": {
     "end_time": "2023-06-13T16:21:13.761630700Z",
     "start_time": "2023-06-13T16:18:43.457912500Z"
    }
   },
   "outputs": [
    {
     "name": "stdout",
     "output_type": "stream",
     "text": [
      "Epoch: 01 | Epoch Time: 0m 8s\n",
      "\tTrain Loss: 0.479 | Train Acc: 78.09%\n",
      "\t Val. Loss: 0.516 |  Val. Acc: 76.16%\n",
      "Epoch: 02 | Epoch Time: 0m 9s\n",
      "\tTrain Loss: 0.424 | Train Acc: 80.45%\n",
      "\t Val. Loss: 0.503 |  Val. Acc: 76.17%\n",
      "Epoch: 03 | Epoch Time: 0m 10s\n",
      "\tTrain Loss: 0.405 | Train Acc: 81.38%\n",
      "\t Val. Loss: 0.521 |  Val. Acc: 76.19%\n",
      "Epoch: 04 | Epoch Time: 0m 8s\n",
      "\tTrain Loss: 0.391 | Train Acc: 82.10%\n",
      "\t Val. Loss: 0.496 |  Val. Acc: 78.13%\n",
      "Epoch: 05 | Epoch Time: 0m 8s\n",
      "\tTrain Loss: 0.377 | Train Acc: 82.90%\n",
      "\t Val. Loss: 0.532 |  Val. Acc: 76.21%\n",
      "Epoch: 06 | Epoch Time: 0m 8s\n",
      "\tTrain Loss: 0.364 | Train Acc: 83.51%\n",
      "\t Val. Loss: 0.560 |  Val. Acc: 75.65%\n",
      "Epoch: 07 | Epoch Time: 0m 7s\n",
      "\tTrain Loss: 0.351 | Train Acc: 84.26%\n",
      "\t Val. Loss: 0.529 |  Val. Acc: 77.02%\n",
      "Epoch: 08 | Epoch Time: 0m 6s\n",
      "\tTrain Loss: 0.343 | Train Acc: 84.68%\n",
      "\t Val. Loss: 0.556 |  Val. Acc: 75.88%\n",
      "Epoch: 09 | Epoch Time: 0m 7s\n",
      "\tTrain Loss: 0.331 | Train Acc: 85.35%\n",
      "\t Val. Loss: 0.546 |  Val. Acc: 76.68%\n",
      "Epoch: 10 | Epoch Time: 0m 7s\n",
      "\tTrain Loss: 0.326 | Train Acc: 85.46%\n",
      "\t Val. Loss: 0.548 |  Val. Acc: 76.24%\n",
      "Epoch: 11 | Epoch Time: 0m 7s\n",
      "\tTrain Loss: 0.317 | Train Acc: 85.85%\n",
      "\t Val. Loss: 0.537 |  Val. Acc: 75.65%\n",
      "Epoch: 12 | Epoch Time: 0m 7s\n",
      "\tTrain Loss: 0.310 | Train Acc: 86.33%\n",
      "\t Val. Loss: 0.539 |  Val. Acc: 75.55%\n",
      "Epoch: 13 | Epoch Time: 0m 7s\n",
      "\tTrain Loss: 0.304 | Train Acc: 86.48%\n",
      "\t Val. Loss: 0.543 |  Val. Acc: 76.73%\n",
      "Epoch: 14 | Epoch Time: 0m 6s\n",
      "\tTrain Loss: 0.299 | Train Acc: 86.84%\n",
      "\t Val. Loss: 0.542 |  Val. Acc: 75.07%\n",
      "Epoch: 15 | Epoch Time: 0m 6s\n",
      "\tTrain Loss: 0.293 | Train Acc: 87.01%\n",
      "\t Val. Loss: 0.556 |  Val. Acc: 75.02%\n",
      "Epoch: 16 | Epoch Time: 0m 6s\n",
      "\tTrain Loss: 0.289 | Train Acc: 87.32%\n",
      "\t Val. Loss: 0.544 |  Val. Acc: 75.35%\n",
      "Epoch: 17 | Epoch Time: 0m 6s\n",
      "\tTrain Loss: 0.283 | Train Acc: 87.52%\n",
      "\t Val. Loss: 0.578 |  Val. Acc: 75.25%\n",
      "Epoch: 18 | Epoch Time: 0m 6s\n",
      "\tTrain Loss: 0.278 | Train Acc: 87.91%\n",
      "\t Val. Loss: 0.575 |  Val. Acc: 74.02%\n",
      "Epoch: 19 | Epoch Time: 0m 6s\n",
      "\tTrain Loss: 0.275 | Train Acc: 87.98%\n",
      "\t Val. Loss: 0.568 |  Val. Acc: 74.38%\n",
      "Epoch: 20 | Epoch Time: 0m 6s\n",
      "\tTrain Loss: 0.272 | Train Acc: 88.06%\n",
      "\t Val. Loss: 0.565 |  Val. Acc: 74.88%\n"
     ]
    }
   ],
   "source": [
    "N_EPOCHS = 20\n",
    "\n",
    "best_valid_loss = float('inf')\n",
    "\n",
    "train_losses = []\n",
    "val_losses = []\n",
    "train_accuracy = []\n",
    "val_accuracy = []\n",
    "\n",
    "for epoch in range(N_EPOCHS):\n",
    "\n",
    "    start_time = time.time()\n",
    "\n",
    "    train_loss, train_acc = train(model, train_loader, optimizer, criterion)\n",
    "    valid_loss, valid_acc = evaluate(model, val_loader, criterion)\n",
    "\n",
    "    train_losses.append(train_loss)\n",
    "    train_accuracy.append(train_acc)\n",
    "    val_losses.append(valid_loss)\n",
    "    val_accuracy.append(valid_acc)\n",
    "\n",
    "    end_time = time.time()\n",
    "\n",
    "    epoch_mins, epoch_secs = epoch_time(start_time, end_time)\n",
    "\n",
    "    if valid_loss < best_valid_loss:\n",
    "        best_valid_loss = valid_loss\n",
    "        torch.save(model.state_dict(), 'models/fc.pt')\n",
    "\n",
    "    print(f'Epoch: {epoch + 1:02} | Epoch Time: {epoch_mins}m {epoch_secs}s')\n",
    "    print(f'\\tTrain Loss: {train_loss:.3f} | Train Acc: {train_acc * 100:.2f}%')\n",
    "    print(f'\\t Val. Loss: {valid_loss:.3f} |  Val. Acc: {valid_acc * 100:.2f}%')"
   ]
  },
  {
   "cell_type": "code",
   "execution_count": 33,
   "outputs": [
    {
     "data": {
      "text/plain": "<Figure size 640x480 with 1 Axes>",
      "image/png": "[encoded data removed]"
     },
     "metadata": {},
     "output_type": "display_data"
    }
   ],
   "source": [
    "plt.plot(train_losses, label='train')\n",
    "plt.plot(val_losses, label='val')\n",
    "plt.xlabel(\"Epochs\")\n",
    "plt.ylabel(\"Loss\")\n",
    "plt.legend()\n",
    "plt.grid()\n",
    "plt.show()"
   ],
   "metadata": {
    "collapsed": false,
    "ExecuteTime": {
     "end_time": "2023-06-13T14:00:06.255275700Z",
     "start_time": "2023-06-13T14:00:05.988679800Z"
    }
   }
  },
  {
   "cell_type": "code",
   "execution_count": 34,
   "outputs": [
    {
     "data": {
      "text/plain": "<Figure size 640x480 with 1 Axes>",
      "image/png": "[encoded data removed]"
     },
     "metadata": {},
     "output_type": "display_data"
    }
   ],
   "source": [
    "plt.plot(train_accuracy, label='train')\n",
    "plt.plot(val_accuracy, label='val')\n",
    "plt.xlabel(\"Epochs\")\n",
    "plt.ylabel(\"Accuracy\")\n",
    "plt.legend()\n",
    "plt.grid()\n",
    "plt.show()"
   ],
   "metadata": {
    "collapsed": false,
    "ExecuteTime": {
     "end_time": "2023-06-13T14:00:06.524064800Z",
     "start_time": "2023-06-13T14:00:06.258267800Z"
    }
   }
  },
  {
   "cell_type": "code",
   "execution_count": null,
   "outputs": [],
   "source": [],
   "metadata": {
    "collapsed": false
   }
  }
 ],
 "metadata": {
  "kernelspec": {
   "display_name": "Python 3",
   "language": "python",
   "name": "python3"
  },
  "language_info": {
   "codemirror_mode": {
    "name": "ipython",
    "version": 3
   },
   "file_extension": ".py",
   "mimetype": "text/x-python",
   "name": "python",
   "nbconvert_exporter": "python",
   "pygments_lexer": "ipython3",
   "version": "3.8.5"
  }
 },
 "nbformat": 4,
 "nbformat_minor": 2
}
