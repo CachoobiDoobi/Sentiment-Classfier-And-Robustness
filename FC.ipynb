{
 "cells": [
  {
   "cell_type": "code",
   "execution_count": 1,
   "metadata": {
    "ExecuteTime": {
     "end_time": "2023-06-17T11:47:24.560940900Z",
     "start_time": "2023-06-17T11:47:18.967937Z"
    }
   },
   "outputs": [],
   "source": [
    "import matplotlib.pyplot as plt\n",
    "import spacy\n",
    "import torch\n",
    "import torch.nn as nn\n",
    "import torch.nn.functional as F\n",
    "import torch.optim as optim\n",
    "import torchtext.vocab as vocab\n",
    "from torch.utils.data import DataLoader\n",
    "from torchtext.data import get_tokenizer\n",
    "from torchtext.datasets import SST2\n",
    "from torchtext.vocab import build_vocab_from_iterator\n",
    "\n",
    "nlp = spacy.load(\"en_core_web_sm\")"
   ]
  },
  {
   "cell_type": "code",
   "execution_count": 2,
   "metadata": {
    "ExecuteTime": {
     "end_time": "2023-06-17T11:47:24.787356500Z",
     "start_time": "2023-06-17T11:47:24.564929400Z"
    }
   },
   "outputs": [],
   "source": [
    "device = torch.device('cuda' if torch.cuda.is_available() else 'cpu')\n",
    "%run models/Linear.ipynb"
   ]
  },
  {
   "cell_type": "code",
   "execution_count": 3,
   "outputs": [
    {
     "name": "stderr",
     "output_type": "stream",
     "text": [
      "D:\\Python\\Lib\\site-packages\\torchtext\\data\\utils.py:105: UserWarning: Spacy model \"en\" could not be loaded, trying \"en_core_web_sm\" instead\n",
      "  warnings.warn(\n"
     ]
    }
   ],
   "source": [
    "train_iter = SST2(split=\"train\")\n",
    "val_iter = SST2(split=\"dev\")\n",
    "\n",
    "tokenizer = get_tokenizer('spacy')\n",
    "\n",
    "\n",
    "def yield_tokens(data_iter):\n",
    "    for text, _ in data_iter:\n",
    "        yield tokenizer(text)\n",
    "\n",
    "\n",
    "vocabulary = build_vocab_from_iterator(yield_tokens(train_iter), specials=[\"<unk>\"])\n",
    "vocabulary.set_default_index(vocabulary[\"<unk>\"])"
   ],
   "metadata": {
    "collapsed": false,
    "ExecuteTime": {
     "end_time": "2023-06-17T11:47:30.839883700Z",
     "start_time": "2023-06-17T11:47:24.791869Z"
    }
   }
  },
  {
   "cell_type": "code",
   "execution_count": 4,
   "outputs": [],
   "source": [
    "glove_vectors = vocab.GloVe(name='6B', dim=100)\n",
    "vocabulary.vectors = glove_vectors.get_vecs_by_tokens(vocabulary.get_itos())"
   ],
   "metadata": {
    "collapsed": false,
    "ExecuteTime": {
     "end_time": "2023-06-17T11:47:31.511497700Z",
     "start_time": "2023-06-17T11:47:30.842873900Z"
    }
   }
  },
  {
   "cell_type": "code",
   "execution_count": 5,
   "outputs": [],
   "source": [
    "BATCH_SIZE = 128\n",
    "\n",
    "\n",
    "def collate(x):\n",
    "    batch = []\n",
    "    for item in x:\n",
    "        seq = []\n",
    "        for word in tokenizer(item[0]):\n",
    "            seq.append(vocabulary[word])\n",
    "        batch.append(torch.tensor(seq))\n",
    "    l = torch.tensor([item[1] for item in x]).unsqueeze(dim=1)\n",
    "    return nn.utils.rnn.pad_sequence(batch, padding_value=vocabulary[\"<pad>\"], batch_first=True), l\n"
   ],
   "metadata": {
    "collapsed": false,
    "ExecuteTime": {
     "end_time": "2023-06-17T11:47:31.521505800Z",
     "start_time": "2023-06-17T11:47:31.515486200Z"
    }
   }
  },
  {
   "cell_type": "code",
   "execution_count": 6,
   "outputs": [],
   "source": [
    "train_loader = DataLoader(train_iter, batch_size=BATCH_SIZE, collate_fn=lambda x: collate(x))\n",
    "val_loader = DataLoader(val_iter, batch_size=BATCH_SIZE, collate_fn=lambda x: collate(x))"
   ],
   "metadata": {
    "collapsed": false,
    "ExecuteTime": {
     "end_time": "2023-06-17T11:47:31.532146800Z",
     "start_time": "2023-06-17T11:47:31.525495900Z"
    }
   }
  },
  {
   "cell_type": "code",
   "execution_count": 7,
   "metadata": {
    "ExecuteTime": {
     "end_time": "2023-06-17T11:47:31.540897400Z",
     "start_time": "2023-06-17T11:47:31.533144600Z"
    }
   },
   "outputs": [],
   "source": [
    "EMBEDDING_DIM = 100\n",
    "HIDDEN_DIM = 100\n",
    "OUTPUT_DIM = 2\n",
    "\n",
    "model = FC(vocabulary, EMBEDDING_DIM, HIDDEN_DIM, OUTPUT_DIM)"
   ]
  },
  {
   "cell_type": "code",
   "execution_count": 8,
   "metadata": {
    "ExecuteTime": {
     "end_time": "2023-06-17T11:47:31.563872100Z",
     "start_time": "2023-06-17T11:47:31.542893600Z"
    }
   },
   "outputs": [
    {
     "name": "stdout",
     "output_type": "stream",
     "text": [
      "The model has 10,302 trainable parameters\n"
     ]
    },
    {
     "data": {
      "text/plain": "FC(\n  (embedding): Embedding(13888, 100)\n  (fc): Linear(in_features=100, out_features=100, bias=True)\n  (fc2): Linear(in_features=100, out_features=2, bias=True)\n  (relu): ReLU()\n)"
     },
     "execution_count": 8,
     "metadata": {},
     "output_type": "execute_result"
    }
   ],
   "source": [
    "def count_parameters(model):\n",
    "    return sum(p.numel() for p in model.parameters() if p.requires_grad)\n",
    "\n",
    "\n",
    "print(f'The model has {count_parameters(model):,} trainable parameters')\n",
    "model"
   ]
  },
  {
   "cell_type": "markdown",
   "metadata": {},
   "source": [
    "## Train the Model"
   ]
  },
  {
   "cell_type": "code",
   "execution_count": 9,
   "metadata": {
    "ExecuteTime": {
     "end_time": "2023-06-17T11:47:31.675809700Z",
     "start_time": "2023-06-17T11:47:31.556852400Z"
    }
   },
   "outputs": [],
   "source": [
    "optimizer = optim.Adam(model.parameters(), lr=5e-3)\n",
    "criterion = nn.CrossEntropyLoss()\n",
    "model = model.to(device)\n",
    "criterion = criterion.to(device)"
   ]
  },
  {
   "cell_type": "code",
   "execution_count": 10,
   "metadata": {
    "ExecuteTime": {
     "end_time": "2023-06-17T11:47:31.683678900Z",
     "start_time": "2023-06-17T11:47:31.676806700Z"
    }
   },
   "outputs": [],
   "source": [
    "def binary_accuracy(preds, y):\n",
    "    \"\"\"\n",
    "    Returns accuracy per batch, i.e. if you get 8/10 right, this returns 0.8, NOT 8\n",
    "    \"\"\"\n",
    "\n",
    "    #round predictions to the closest integer\n",
    "    correct = (preds.argmax(dim=1) == y.argmax(dim=1)).float()  #convert into float for division\n",
    "    acc = correct.sum() / len(correct)\n",
    "    return acc"
   ]
  },
  {
   "cell_type": "code",
   "execution_count": 11,
   "metadata": {
    "ExecuteTime": {
     "end_time": "2023-06-17T11:47:31.695539600Z",
     "start_time": "2023-06-17T11:47:31.685673600Z"
    }
   },
   "outputs": [],
   "source": [
    "def train(model, iterator, optimizer, criterion):\n",
    "    epoch_loss = 0\n",
    "    epoch_acc = 0\n",
    "    c = 0\n",
    "    model.train()\n",
    "\n",
    "    for inputs, labels in iterator:\n",
    "        c += 1\n",
    "        inputs = inputs.to(device)\n",
    "        labels = labels.to(device)\n",
    "\n",
    "        optimizer.zero_grad()\n",
    "        predictions = model(inputs).float()\n",
    "\n",
    "        targets = F.one_hot(labels.squeeze(), num_classes=2).float()\n",
    "\n",
    "        loss = criterion(predictions, targets)\n",
    "\n",
    "        acc = binary_accuracy(predictions, targets)\n",
    "\n",
    "        loss.backward()\n",
    "\n",
    "        optimizer.step()\n",
    "\n",
    "        epoch_loss += loss.item()\n",
    "        epoch_acc += acc.item()\n",
    "    return epoch_loss / c, epoch_acc / c"
   ]
  },
  {
   "cell_type": "code",
   "execution_count": 12,
   "metadata": {
    "ExecuteTime": {
     "end_time": "2023-06-17T11:47:31.759181400Z",
     "start_time": "2023-06-17T11:47:31.703426200Z"
    }
   },
   "outputs": [],
   "source": [
    "def evaluate(model, iterator, criterion):\n",
    "    epoch_loss = 0\n",
    "    epoch_acc = 0\n",
    "\n",
    "    model.eval()\n",
    "\n",
    "    with torch.no_grad():\n",
    "        c = 0\n",
    "        for inputs, labels in iterator:\n",
    "            c += 1\n",
    "            inputs = inputs.to(device)\n",
    "            labels = labels.to(device)\n",
    "\n",
    "            predictions = model(inputs).float()\n",
    "            targets = F.one_hot(labels.squeeze().long(), num_classes=2).float()\n",
    "            loss = criterion(predictions, targets)\n",
    "\n",
    "            acc = binary_accuracy(predictions, targets)\n",
    "\n",
    "            epoch_loss += loss.item()\n",
    "            epoch_acc += acc.item()\n",
    "    return epoch_loss / c, epoch_acc / c"
   ]
  },
  {
   "cell_type": "code",
   "execution_count": 13,
   "metadata": {
    "ExecuteTime": {
     "end_time": "2023-06-17T11:47:31.759181400Z",
     "start_time": "2023-06-17T11:47:31.711743100Z"
    }
   },
   "outputs": [],
   "source": [
    "import time\n",
    "\n",
    "\n",
    "def epoch_time(start_time, end_time):\n",
    "    elapsed_time = end_time - start_time\n",
    "    elapsed_mins = int(elapsed_time / 60)\n",
    "    elapsed_secs = int(elapsed_time - (elapsed_mins * 60))\n",
    "    return elapsed_mins, elapsed_secs"
   ]
  },
  {
   "cell_type": "code",
   "execution_count": 14,
   "metadata": {
    "ExecuteTime": {
     "end_time": "2023-06-17T11:50:37.782579700Z",
     "start_time": "2023-06-17T11:47:31.724868100Z"
    }
   },
   "outputs": [
    {
     "name": "stdout",
     "output_type": "stream",
     "text": [
      "Epoch: 01 | Epoch Time: 0m 11s\n",
      "\tTrain Loss: 0.470 | Train Acc: 77.96%\n",
      "\t Val. Loss: 0.543 |  Val. Acc: 75.58%\n",
      "Epoch: 02 | Epoch Time: 0m 8s\n",
      "\tTrain Loss: 0.426 | Train Acc: 80.20%\n",
      "\t Val. Loss: 0.499 |  Val. Acc: 76.64%\n",
      "Epoch: 03 | Epoch Time: 0m 8s\n",
      "\tTrain Loss: 0.408 | Train Acc: 81.26%\n",
      "\t Val. Loss: 0.495 |  Val. Acc: 76.89%\n",
      "Epoch: 04 | Epoch Time: 0m 8s\n",
      "\tTrain Loss: 0.396 | Train Acc: 81.94%\n",
      "\t Val. Loss: 0.504 |  Val. Acc: 75.88%\n",
      "Epoch: 05 | Epoch Time: 0m 8s\n",
      "\tTrain Loss: 0.386 | Train Acc: 82.37%\n",
      "\t Val. Loss: 0.522 |  Val. Acc: 76.38%\n",
      "Epoch: 06 | Epoch Time: 0m 8s\n",
      "\tTrain Loss: 0.377 | Train Acc: 82.99%\n",
      "\t Val. Loss: 0.499 |  Val. Acc: 76.30%\n",
      "Epoch: 07 | Epoch Time: 0m 8s\n",
      "\tTrain Loss: 0.368 | Train Acc: 83.50%\n",
      "\t Val. Loss: 0.521 |  Val. Acc: 76.18%\n",
      "Epoch: 08 | Epoch Time: 0m 8s\n",
      "\tTrain Loss: 0.361 | Train Acc: 83.85%\n",
      "\t Val. Loss: 0.530 |  Val. Acc: 75.41%\n",
      "Epoch: 09 | Epoch Time: 0m 8s\n",
      "\tTrain Loss: 0.353 | Train Acc: 84.31%\n",
      "\t Val. Loss: 0.531 |  Val. Acc: 76.05%\n",
      "Epoch: 10 | Epoch Time: 0m 9s\n",
      "\tTrain Loss: 0.346 | Train Acc: 84.49%\n",
      "\t Val. Loss: 0.519 |  Val. Acc: 75.71%\n",
      "Epoch: 11 | Epoch Time: 0m 9s\n",
      "\tTrain Loss: 0.339 | Train Acc: 84.91%\n",
      "\t Val. Loss: 0.533 |  Val. Acc: 75.71%\n",
      "Epoch: 12 | Epoch Time: 0m 11s\n",
      "\tTrain Loss: 0.334 | Train Acc: 85.22%\n",
      "\t Val. Loss: 0.518 |  Val. Acc: 76.85%\n",
      "Epoch: 13 | Epoch Time: 0m 8s\n",
      "\tTrain Loss: 0.328 | Train Acc: 85.41%\n",
      "\t Val. Loss: 0.534 |  Val. Acc: 76.32%\n",
      "Epoch: 14 | Epoch Time: 0m 8s\n",
      "\tTrain Loss: 0.324 | Train Acc: 85.74%\n",
      "\t Val. Loss: 0.541 |  Val. Acc: 76.10%\n",
      "Epoch: 15 | Epoch Time: 0m 10s\n",
      "\tTrain Loss: 0.317 | Train Acc: 86.09%\n",
      "\t Val. Loss: 0.556 |  Val. Acc: 74.91%\n",
      "Epoch: 16 | Epoch Time: 0m 9s\n",
      "\tTrain Loss: 0.314 | Train Acc: 86.11%\n",
      "\t Val. Loss: 0.555 |  Val. Acc: 75.71%\n",
      "Epoch: 17 | Epoch Time: 0m 9s\n",
      "\tTrain Loss: 0.308 | Train Acc: 86.41%\n",
      "\t Val. Loss: 0.567 |  Val. Acc: 74.88%\n",
      "Epoch: 18 | Epoch Time: 0m 9s\n",
      "\tTrain Loss: 0.306 | Train Acc: 86.45%\n",
      "\t Val. Loss: 0.561 |  Val. Acc: 75.15%\n",
      "Epoch: 19 | Epoch Time: 0m 10s\n",
      "\tTrain Loss: 0.302 | Train Acc: 86.73%\n",
      "\t Val. Loss: 0.583 |  Val. Acc: 74.66%\n",
      "Epoch: 20 | Epoch Time: 0m 9s\n",
      "\tTrain Loss: 0.300 | Train Acc: 86.78%\n",
      "\t Val. Loss: 0.570 |  Val. Acc: 74.66%\n"
     ]
    }
   ],
   "source": [
    "N_EPOCHS = 20\n",
    "\n",
    "best_valid_loss = float('inf')\n",
    "\n",
    "train_losses = []\n",
    "val_losses = []\n",
    "train_accuracy = []\n",
    "val_accuracy = []\n",
    "\n",
    "for epoch in range(N_EPOCHS):\n",
    "\n",
    "    start_time = time.time()\n",
    "\n",
    "    train_loss, train_acc = train(model, train_loader, optimizer, criterion)\n",
    "    valid_loss, valid_acc = evaluate(model, val_loader, criterion)\n",
    "\n",
    "    train_losses.append(train_loss)\n",
    "    train_accuracy.append(train_acc)\n",
    "    val_losses.append(valid_loss)\n",
    "    val_accuracy.append(valid_acc)\n",
    "\n",
    "    end_time = time.time()\n",
    "\n",
    "    epoch_mins, epoch_secs = epoch_time(start_time, end_time)\n",
    "\n",
    "    if valid_loss < best_valid_loss:\n",
    "        best_valid_loss = valid_loss\n",
    "        torch.save(model.state_dict(), 'models/fc.pt')\n",
    "\n",
    "    print(f'Epoch: {epoch + 1:02} | Epoch Time: {epoch_mins}m {epoch_secs}s')\n",
    "    print(f'\\tTrain Loss: {train_loss:.3f} | Train Acc: {train_acc * 100:.2f}%')\n",
    "    print(f'\\t Val. Loss: {valid_loss:.3f} |  Val. Acc: {valid_acc * 100:.2f}%')"
   ]
  },
  {
   "cell_type": "code",
   "execution_count": 15,
   "outputs": [
    {
     "data": {
      "text/plain": "<Figure size 640x480 with 1 Axes>",
      "image/png": "[encoded data removed]"
     },
     "metadata": {},
     "output_type": "display_data"
    }
   ],
   "source": [
    "plt.plot(train_losses, label='train')\n",
    "plt.plot(val_losses, label='val')\n",
    "plt.xlabel(\"Epochs\")\n",
    "plt.ylabel(\"Loss\")\n",
    "plt.legend()\n",
    "plt.grid()\n",
    "plt.show()"
   ],
   "metadata": {
    "collapsed": false,
    "ExecuteTime": {
     "end_time": "2023-06-17T11:50:38.125036700Z",
     "start_time": "2023-06-17T11:50:37.797559200Z"
    }
   }
  },
  {
   "cell_type": "code",
   "execution_count": 16,
   "outputs": [
    {
     "data": {
      "text/plain": "<Figure size 640x480 with 1 Axes>",
      "image/png": "[encoded data removed]"
     },
     "metadata": {},
     "output_type": "display_data"
    }
   ],
   "source": [
    "plt.plot(train_accuracy, label='train')\n",
    "plt.plot(val_accuracy, label='val')\n",
    "plt.xlabel(\"Epochs\")\n",
    "plt.ylabel(\"Accuracy\")\n",
    "plt.legend()\n",
    "plt.grid()\n",
    "plt.show()"
   ],
   "metadata": {
    "collapsed": false,
    "ExecuteTime": {
     "end_time": "2023-06-17T11:50:38.471409800Z",
     "start_time": "2023-06-17T11:50:38.146058500Z"
    }
   }
  }
 ],
 "metadata": {
  "kernelspec": {
   "display_name": "Python 3",
   "language": "python",
   "name": "python3"
  },
  "language_info": {
   "codemirror_mode": {
    "name": "ipython",
    "version": 3
   },
   "file_extension": ".py",
   "mimetype": "text/x-python",
   "name": "python",
   "nbconvert_exporter": "python",
   "pygments_lexer": "ipython3",
   "version": "3.8.5"
  }
 },
 "nbformat": 4,
 "nbformat_minor": 2
}
