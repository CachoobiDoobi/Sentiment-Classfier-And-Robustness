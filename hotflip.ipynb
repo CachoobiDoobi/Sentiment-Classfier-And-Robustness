{
 "cells": [
  {
   "cell_type": "code",
   "execution_count": 235,
   "outputs": [
    {
     "name": "stderr",
     "output_type": "stream",
     "text": [
      "C:\\Users\\radug\\AppData\\Local\\Temp\\ipykernel_7484\\2454200913.py:13: DeprecationWarning: Importing display from IPython.core.display is deprecated since IPython 7.14, please import from IPython display\n",
      "  from IPython.core.display import display, HTML\n"
     ]
    }
   ],
   "source": [
    "import matplotlib.pyplot as plt\n",
    "import numpy as np\n",
    "import torch\n",
    "import torch.nn as nn\n",
    "import torch.nn.functional as F\n",
    "import torch.optim as optim\n",
    "import torchtext.vocab as vocab\n",
    "from torchtext.data import get_tokenizer\n",
    "from torchtext.datasets import SST2\n",
    "from torch.utils.data import DataLoader\n",
    "from torchtext.vocab import build_vocab_from_iterator\n",
    "import OpenAttack as oa\n",
    "from IPython.core.display import display, HTML\n",
    "%run models/Linear.ipynb\n",
    "%run models/RNN.ipynb\n",
    "%run models/SelfAttention.ipynb"
   ],
   "metadata": {
    "collapsed": false,
    "ExecuteTime": {
     "end_time": "2023-06-14T11:34:47.212492400Z",
     "start_time": "2023-06-14T11:34:47.190921800Z"
    }
   }
  },
  {
   "cell_type": "code",
   "execution_count": 205,
   "outputs": [],
   "source": [
    "device = torch.device('cuda' if torch.cuda.is_available() else 'cpu')\n",
    "train_iter = SST2(split=\"train\")\n",
    "val_iter = SST2(split=\"dev\")\n",
    "# test_iter = SST2(split=\"test\")\n",
    "\n",
    "tokenizer = get_tokenizer('spacy')\n",
    "\n",
    "def yield_tokens_adv(data_iter):\n",
    "    for text, _ in data_iter:\n",
    "        yield tokenizer(text)"
   ],
   "metadata": {
    "collapsed": false,
    "ExecuteTime": {
     "end_time": "2023-06-14T11:29:31.183035800Z",
     "start_time": "2023-06-14T11:29:30.653952800Z"
    }
   }
  },
  {
   "cell_type": "code",
   "execution_count": 206,
   "outputs": [],
   "source": [
    "vocabulary = build_vocab_from_iterator(yield_tokens_adv(train_iter), specials=[\"<unk>\"])\n",
    "vocabulary.set_default_index(vocabulary[\"<unk>\"])\n",
    "glove_vectors = vocab.GloVe(name='6B', dim=100)\n",
    "vocabulary.vectors = glove_vectors.get_vecs_by_tokens(vocabulary.get_itos())\n",
    "BATCH_SIZE = 128\n",
    "MAX_VOCAB_SIZE = 400000"
   ],
   "metadata": {
    "collapsed": false,
    "ExecuteTime": {
     "end_time": "2023-06-14T11:29:35.839322400Z",
     "start_time": "2023-06-14T11:29:31.189020800Z"
    }
   }
  },
  {
   "cell_type": "code",
   "execution_count": 319,
   "outputs": [
    {
     "name": "stderr",
     "output_type": "stream",
     "text": [
      "Found cached dataset sst2 (C:/Users/radug/.cache/huggingface/datasets/sst2/default/2.0.0/9896208a8d85db057ac50c72282bcb8fe755accc671a57dd8059d4e130961ed5)\n",
      "Loading cached processed dataset at C:\\Users\\radug\\.cache\\huggingface\\datasets\\sst2\\default\\2.0.0\\9896208a8d85db057ac50c72282bcb8fe755accc671a57dd8059d4e130961ed5\\cache-8c70bd2e27fc4ee0.arrow\n"
     ]
    }
   ],
   "source": [
    "import datasets\n",
    "\n",
    "\n",
    "def dataset_mapping(x):\n",
    "    return {\n",
    "        \"x\": x[\"sentence\"],\n",
    "        \"y\": 1 if x[\"label\"] > 0.5 else 0,\n",
    "    }\n",
    "\n",
    "\n",
    "# configure access interface of the customized victim model by extending OpenAttack.Classifier.\n",
    "class MyClassifier(oa.Classifier):\n",
    "    def __init__(self, model, fc=False):\n",
    "        self.model = model\n",
    "        self.fc = fc\n",
    "    def get_pred(self, input_):\n",
    "        return self.get_prob(input_).argmax(axis=1)\n",
    "\n",
    "    # access to the classification probability scores with respect input sentences\n",
    "    def get_prob(self, input_):\n",
    "        ret = []\n",
    "        for sent in input_:\n",
    "            seq = []\n",
    "            for word in tokenizer(sent):\n",
    "                seq.append(vocabulary[word])\n",
    "            v = torch.tensor(seq).view(1, -1)\n",
    "            v = v.to(device)\n",
    "            if self.fc:\n",
    "                res = self.model.forward(v)\n",
    "            else:\n",
    "                res, att  = self.model.forward(v)\n",
    "                # print(att.sum(dim=1), att.sum(dim=2))\n",
    "            res = F.softmax(res, dim=1)\n",
    "            res = {\"pos\": res[0, 0].cpu().detach().numpy(), \"neg\": res[0, 1].cpu().detach().numpy()}\n",
    "            # we use 𝑠𝑜𝑐𝑟𝑒_𝑝𝑜𝑠 / (𝑠𝑐𝑜𝑟𝑒_𝑛𝑒𝑔 + 𝑠𝑐𝑜𝑟𝑒_𝑝𝑜𝑠) to represent the probability of positive sentiment\n",
    "            # Adding 10^−6 is a trick to avoid dividing by zero.\n",
    "            prob = (res[\"pos\"] + 1e-6) / (res[\"neg\"] + res[\"pos\"] + 2e-6)\n",
    "\n",
    "            ret.append(np.array([1 - prob, prob]))\n",
    "\n",
    "        # The get_prob method finally returns a np.ndarray of shape (len(input_), 2). See Classifier for detail.\n",
    "        return np.array(ret)\n",
    "\n",
    "\n",
    "dataset = datasets.load_dataset(\"sst2\", split=\"test[:50]\").map(function=dataset_mapping)\n",
    "attacker = oa.attackers.hotflip.HotFlipAttacker()"
   ],
   "metadata": {
    "collapsed": false,
    "ExecuteTime": {
     "end_time": "2023-06-14T12:18:12.674205100Z",
     "start_time": "2023-06-14T12:18:10.364751600Z"
    }
   }
  },
  {
   "cell_type": "markdown",
   "source": [
    "### Metrics"
   ],
   "metadata": {
    "collapsed": false
   }
  },
  {
   "cell_type": "code",
   "execution_count": 371,
   "outputs": [],
   "source": [
    "class PerturbationPosition(oa.AttackMetric):\n",
    "    NAME = \"PerturbationPosition\"\n",
    "    def __init__(self):\n",
    "        self.counts = []\n",
    "    def after_attack(self, sample, adversarial_sample):\n",
    "        if adversarial_sample is None:\n",
    "            return -1\n",
    "        sample = tokenizer(sample[\"sentence\"])\n",
    "        adversarial_sample = tokenizer(adversarial_sample)\n",
    "        for i, (word, word_adv) in enumerate(zip(sample, adversarial_sample)):\n",
    "                if word != word_adv:\n",
    "                    self.counts.append(i / len(sample))\n",
    "class StoreAdversarialCandidates(oa.AttackMetric):\n",
    "    NAME = \"AdversarialCandidates\"\n",
    "    def __init__(self, model):\n",
    "        self.embeddings = []\n",
    "        self.model = model\n",
    "    def after_attack(self, sample, adversarial_sample):\n",
    "        # print(sample, adversarial_sample)\n",
    "        if adversarial_sample is None:\n",
    "            return\n",
    "        adversarial_sample = tokenizer(adversarial_sample)\n",
    "        seq = []\n",
    "        for word in adversarial_sample:\n",
    "            seq.append(vocabulary[word])\n",
    "        seq = torch.tensor(seq).to(device)\n",
    "        emb = self.model.embedding(seq)\n",
    "        self.embeddings.append(emb)\n",
    "        return -1"
   ],
   "metadata": {
    "collapsed": false,
    "ExecuteTime": {
     "end_time": "2023-06-14T12:39:01.655325800Z",
     "start_time": "2023-06-14T12:39:01.633503300Z"
    }
   }
  },
  {
   "cell_type": "code",
   "execution_count": 372,
   "outputs": [],
   "source": [
    "class PerturbationAttention(oa.AttackMetric):\n",
    "    NAME = \"PerturbationAttention\"\n",
    "    def __init__(self, model):\n",
    "        self.model = model\n",
    "        self.sample = {'words': [], 'attention': []}\n",
    "        self.adversarial_sample = {'words': [], 'attention': []}\n",
    "        self.word_counts = []\n",
    "    def after_attack(self, sample, adversarial_sample):\n",
    "        if adversarial_sample is None:\n",
    "            return -1\n",
    "        seq = []\n",
    "        seq_adv = []\n",
    "        sample = tokenizer(sample[\"sentence\"])\n",
    "        adversarial_sample = tokenizer(adversarial_sample)\n",
    "        self.sample['words'].append(sample)\n",
    "        #print(sample)\n",
    "        self.adversarial_sample['words'].append(adversarial_sample)\n",
    "        cnt = 0\n",
    "        for i, (word1, word2) in enumerate(zip(sample, adversarial_sample)):\n",
    "            seq.append(vocabulary[word1])\n",
    "            seq_adv.append(vocabulary[word2])\n",
    "            cnt+=1\n",
    "        self.word_counts.append(cnt)\n",
    "        seq = torch.tensor(seq).view(1, -1).to(device)\n",
    "        seq_adv = torch.tensor(seq_adv).view(1, -1).to(device)\n",
    "        self.sample['attention'].append(self.model.forward(seq)[1])\n",
    "        self.adversarial_sample['attention'].append(self.model.forward(seq_adv)[1])"
   ],
   "metadata": {
    "collapsed": false,
    "ExecuteTime": {
     "end_time": "2023-06-14T12:39:01.779457300Z",
     "start_time": "2023-06-14T12:39:01.757150400Z"
    }
   }
  },
  {
   "cell_type": "code",
   "execution_count": 373,
   "outputs": [],
   "source": [
    "def concatenateMaps(map_tensor, adversial_map_tensor, num_sentences, rnn_flag=False):\n",
    "    attention_map = []\n",
    "    adv_attention_map = []\n",
    "    for i in range(num_sentences):\n",
    "        if rnn_flag:\n",
    "            att = map_tensor[i].squeeze(0)\n",
    "            adv_att = adversial_map_tensor[i].squeeze(0)\n",
    "        else:\n",
    "            att = torch.mean(map_tensor[i].squeeze(0), dim=1)\n",
    "            adv_att = torch.mean(adversial_map_tensor[i].squeeze(0), dim=1)\n",
    "\n",
    "        attention_map.append(att.cpu().detach().numpy())\n",
    "        adv_attention_map.append(adv_att.cpu().detach().numpy())\n",
    "    return attention_map, adv_attention_map\n",
    "#generate for all sentences in the batch\n",
    "def generateHeatedText(words, attention_map):\n",
    "    text = []\n",
    "    for i in range(len(words)):\n",
    "        word = '<span style=\"background-color:rgba(255, 99, 71,'+ str(attention_map[i]) + ')\">' +words[i]+ '</span>'\n",
    "        text.append(word)\n",
    "    text = ' '.join(text)\n",
    "\n",
    "    display(HTML(text))"
   ],
   "metadata": {
    "collapsed": false,
    "ExecuteTime": {
     "end_time": "2023-06-14T12:39:01.880065300Z",
     "start_time": "2023-06-14T12:39:01.875732Z"
    }
   }
  },
  {
   "cell_type": "markdown",
   "source": [
    "### Fully Connected Attack"
   ],
   "metadata": {
    "collapsed": false
   }
  },
  {
   "cell_type": "code",
   "execution_count": 374,
   "outputs": [
    {
     "data": {
      "text/plain": "{'Total Attacked Instances': 50,\n 'Successful Instances': 29,\n 'Attack Success Rate': 0.58,\n 'Avg. Running Time': 0.0020549726486206055,\n 'Total Query Exceeded': 0.0,\n 'Avg. Victim Model Queries': 45.16,\n 'Avg. AdversarialCandidates': -1.0,\n 'Avg. PerturbationPosition': -1.0}"
     },
     "execution_count": 374,
     "metadata": {},
     "output_type": "execute_result"
    }
   ],
   "source": [
    "net = FC(vocabulary)\n",
    "net.load_state_dict(torch.load('models/fc.pt'))\n",
    "net.to(device)\n",
    "net.eval()\n",
    "pp = PerturbationPosition()\n",
    "sad = StoreAdversarialCandidates(net)\n",
    "victim = MyClassifier(net, True)# prepare for attacking\n",
    "attack_eval = oa.AttackEval(attacker, victim, metrics=[\n",
    "    pp, sad\n",
    "])\n",
    "# launch attacks and print attack results\n",
    "attack_fc = attack_eval.eval(dataset, visualize=False)\n",
    "attack_fc"
   ],
   "metadata": {
    "collapsed": false,
    "ExecuteTime": {
     "end_time": "2023-06-14T12:39:05.649494Z",
     "start_time": "2023-06-14T12:39:02.716820Z"
    }
   }
  },
  {
   "cell_type": "code",
   "execution_count": 375,
   "outputs": [
    {
     "data": {
      "text/plain": "<Figure size 640x480 with 1 Axes>",
      "image/png": "[encoded data removed]"
     },
     "metadata": {},
     "output_type": "display_data"
    }
   ],
   "source": [
    "counts = np.array(pp.counts)\n",
    "counts = counts[counts>=0]\n",
    "c, b = np.histogram(pp.counts, bins=50)\n",
    "plt.stairs(c, b)\n",
    "plt.show()"
   ],
   "metadata": {
    "collapsed": false,
    "ExecuteTime": {
     "end_time": "2023-06-14T12:39:25.022745800Z",
     "start_time": "2023-06-14T12:39:24.906294500Z"
    }
   }
  },
  {
   "cell_type": "code",
   "execution_count": 379,
   "outputs": [
    {
     "data": {
      "text/plain": "29"
     },
     "execution_count": 379,
     "metadata": {},
     "output_type": "execute_result"
    }
   ],
   "source": [
    "len(sad.embeddings)"
   ],
   "metadata": {
    "collapsed": false,
    "ExecuteTime": {
     "end_time": "2023-06-14T12:39:43.356972200Z",
     "start_time": "2023-06-14T12:39:43.333684400Z"
    }
   }
  },
  {
   "cell_type": "markdown",
   "source": [
    "### RNN Attack"
   ],
   "metadata": {
    "collapsed": false
   }
  },
  {
   "cell_type": "code",
   "execution_count": 380,
   "outputs": [
    {
     "data": {
      "text/plain": "{'Total Attacked Instances': 50,\n 'Successful Instances': 33,\n 'Attack Success Rate': 0.66,\n 'Avg. Running Time': 0.003293805122375488,\n 'Total Query Exceeded': 0.0,\n 'Avg. Victim Model Queries': 52.8,\n 'Avg. PerturbationPosition': -1.0,\n 'Avg. PerturbationAttention': -1.0}"
     },
     "execution_count": 380,
     "metadata": {},
     "output_type": "execute_result"
    }
   ],
   "source": [
    "net = RNN(vocabulary)\n",
    "net.load_state_dict(torch.load('models/rnn.pt'))\n",
    "net.to(device)\n",
    "net.eval()\n",
    "pp = PerturbationPosition()\n",
    "pa = PerturbationAttention(net)\n",
    "victim = MyClassifier(net, False)\n",
    "# prepare for attacking\n",
    "attack_eval = oa.AttackEval(attacker, victim, metrics=[\n",
    "    pp, pa\n",
    "])\n",
    "# launch attacks and print attack results\n",
    "attack_rnn = attack_eval.eval(dataset, visualize=False)\n",
    "attack_rnn"
   ],
   "metadata": {
    "collapsed": false,
    "ExecuteTime": {
     "end_time": "2023-06-14T12:42:27.734734200Z",
     "start_time": "2023-06-14T12:42:23.088035300Z"
    }
   }
  },
  {
   "cell_type": "code",
   "execution_count": 382,
   "outputs": [
    {
     "data": {
      "text/plain": "<IPython.core.display.HTML object>",
      "text/html": "<span style=\"background-color:rgba(255, 99, 71,2.4917451e-17)\">a</span> <span style=\"background-color:rgba(255, 99, 71,2.989794e-08)\">remarkable</span> <span style=\"background-color:rgba(255, 99, 71,1.9904935e-15)\">179</span> <span style=\"background-color:rgba(255, 99, 71,5.0645423e-05)\">-</span> <span style=\"background-color:rgba(255, 99, 71,3.6301522e-06)\">minute</span> <span style=\"background-color:rgba(255, 99, 71,7.229167e-08)\">meditation</span> <span style=\"background-color:rgba(255, 99, 71,0.9329647)\">on</span> <span style=\"background-color:rgba(255, 99, 71,0.016935473)\">the</span> <span style=\"background-color:rgba(255, 99, 71,0.0033057625)\">nature</span> <span style=\"background-color:rgba(255, 99, 71,0.04608107)\">of</span> <span style=\"background-color:rgba(255, 99, 71,0.00065858616)\">revolution</span> <span style=\"background-color:rgba(255, 99, 71,2.0743815e-12)\">.</span>"
     },
     "metadata": {},
     "output_type": "display_data"
    },
    {
     "data": {
      "text/plain": "<IPython.core.display.HTML object>",
      "text/html": "<span style=\"background-color:rgba(255, 99, 71,3.0131413e-16)\">a</span> <span style=\"background-color:rgba(255, 99, 71,9.641025e-08)\">noteworthy</span> <span style=\"background-color:rgba(255, 99, 71,2.2733056e-13)\">179</span> <span style=\"background-color:rgba(255, 99, 71,0.020672994)\">-</span> <span style=\"background-color:rgba(255, 99, 71,0.045723893)\">hour</span> <span style=\"background-color:rgba(255, 99, 71,0.000101806756)\">speculation</span> <span style=\"background-color:rgba(255, 99, 71,0.43596625)\">on</span> <span style=\"background-color:rgba(255, 99, 71,0.082171015)\">the</span> <span style=\"background-color:rgba(255, 99, 71,0.04218908)\">nature</span> <span style=\"background-color:rgba(255, 99, 71,0.3731749)\">of</span> <span style=\"background-color:rgba(255, 99, 71,3.0830866e-11)\">rotation</span> <span style=\"background-color:rgba(255, 99, 71,1.2868068e-10)\">.</span>"
     },
     "metadata": {},
     "output_type": "display_data"
    }
   ],
   "source": [
    "allWords = sum(pa.sample['words'], [])\n",
    "allWords_adv = sum(pa.adversarial_sample['words'], [])\n",
    "attention_map_rnn, adv_attention_map_rnn = concatenateMaps(pa.sample['attention'], pa.adversarial_sample['attention'], len(pa.sample['words']), rnn_flag=True)\n",
    "\n",
    "idx = 11\n",
    "\n",
    "generateHeatedText(pa.sample['words'][idx], attention_map_rnn[idx])\n",
    "generateHeatedText(pa.adversarial_sample['words'][idx], adv_attention_map_rnn[idx])"
   ],
   "metadata": {
    "collapsed": false,
    "ExecuteTime": {
     "end_time": "2023-06-14T12:42:34.693692800Z",
     "start_time": "2023-06-14T12:42:34.671069300Z"
    }
   }
  },
  {
   "cell_type": "code",
   "execution_count": 383,
   "outputs": [
    {
     "data": {
      "text/plain": "<Figure size 640x480 with 1 Axes>",
      "image/png": "[encoded data removed]"
     },
     "metadata": {},
     "output_type": "display_data"
    }
   ],
   "source": [
    "counts = np.array(pp.counts)\n",
    "counts = counts[counts>=0]\n",
    "c, b = np.histogram(pp.counts, bins=50)\n",
    "plt.stairs(c, b)\n",
    "plt.show()"
   ],
   "metadata": {
    "collapsed": false,
    "ExecuteTime": {
     "end_time": "2023-06-14T12:42:36.721165800Z",
     "start_time": "2023-06-14T12:42:36.605392Z"
    }
   }
  },
  {
   "cell_type": "markdown",
   "source": [
    "### Self-Attention Attack\n"
   ],
   "metadata": {
    "collapsed": false
   }
  },
  {
   "cell_type": "code",
   "execution_count": 384,
   "outputs": [
    {
     "data": {
      "text/plain": "{'Total Attacked Instances': 50,\n 'Successful Instances': 13,\n 'Attack Success Rate': 0.26,\n 'Avg. Running Time': 0.0022346019744873048,\n 'Total Query Exceeded': 0.0,\n 'Avg. Victim Model Queries': 66.86,\n 'Avg. PerturbationPosition': -1.0,\n 'Avg. PerturbationAttention': -1.0}"
     },
     "execution_count": 384,
     "metadata": {},
     "output_type": "execute_result"
    }
   ],
   "source": [
    "net = AttentionModel(vocabulary)\n",
    "net.load_state_dict(torch.load('models/attention.pt'))\n",
    "net.to(device)\n",
    "net.eval()\n",
    "pp = PerturbationPosition()\n",
    "pa = PerturbationAttention(net)\n",
    "victim = MyClassifier(net, fc=False)\n",
    "# prepare for attacking\n",
    "attack_eval = oa.AttackEval(attacker, victim, metrics=[\n",
    "    pp, pa\n",
    "])\n",
    "# launch attacks and print attack results\n",
    "attack_att = attack_eval.eval(dataset, visualize=False)\n",
    "attack_att"
   ],
   "metadata": {
    "collapsed": false,
    "ExecuteTime": {
     "end_time": "2023-06-14T12:42:43.946969300Z",
     "start_time": "2023-06-14T12:42:38.182218800Z"
    }
   }
  },
  {
   "cell_type": "code",
   "execution_count": 385,
   "outputs": [
    {
     "data": {
      "text/plain": "<Figure size 640x480 with 1 Axes>",
      "image/png": "[encoded data removed]"
     },
     "metadata": {},
     "output_type": "display_data"
    }
   ],
   "source": [
    "counts = np.array(pp.counts)\n",
    "counts = counts[counts>=0]\n",
    "c, b = np.histogram(pp.counts, bins=50)\n",
    "plt.stairs(c, b)\n",
    "plt.show()"
   ],
   "metadata": {
    "collapsed": false,
    "ExecuteTime": {
     "end_time": "2023-06-14T12:42:45.422370600Z",
     "start_time": "2023-06-14T12:42:45.263198700Z"
    }
   }
  },
  {
   "cell_type": "code",
   "execution_count": 386,
   "outputs": [],
   "source": [
    "allWords = sum(pa.sample['words'], [])\n",
    "allWords_adv = sum(pa.adversarial_sample['words'], [])\n",
    "attention_map, adv_attention_map = concatenateMaps(pa.sample['attention'], pa.adversarial_sample['attention'], len(pa.sample['words']))"
   ],
   "metadata": {
    "collapsed": false,
    "ExecuteTime": {
     "end_time": "2023-06-14T12:42:46.465987500Z",
     "start_time": "2023-06-14T12:42:46.435849Z"
    }
   }
  },
  {
   "cell_type": "code",
   "execution_count": 387,
   "outputs": [
    {
     "data": {
      "text/plain": "<IPython.core.display.HTML object>",
      "text/html": "<span style=\"background-color:rgba(255, 99, 71,0.0004968415)\">how</span> <span style=\"background-color:rgba(255, 99, 71,0.081295244)\">did</span> <span style=\"background-color:rgba(255, 99, 71,0.06906777)\">it</span> <span style=\"background-color:rgba(255, 99, 71,0.3003062)\">ever</span> <span style=\"background-color:rgba(255, 99, 71,0.5209923)\">get</span> <span style=\"background-color:rgba(255, 99, 71,0.018454297)\">made</span> <span style=\"background-color:rgba(255, 99, 71,0.009387448)\">?</span>"
     },
     "metadata": {},
     "output_type": "display_data"
    },
    {
     "data": {
      "text/plain": "<IPython.core.display.HTML object>",
      "text/html": "<span style=\"background-color:rgba(255, 99, 71,0.0017405972)\">how</span> <span style=\"background-color:rgba(255, 99, 71,0.02239738)\">coiffure</span> <span style=\"background-color:rgba(255, 99, 71,0.1809106)\">it</span> <span style=\"background-color:rgba(255, 99, 71,0.670014)\">ever</span> <span style=\"background-color:rgba(255, 99, 71,0.027250797)\">become</span> <span style=\"background-color:rgba(255, 99, 71,0.05965744)\">made</span> <span style=\"background-color:rgba(255, 99, 71,0.038029242)\">?</span>"
     },
     "metadata": {},
     "output_type": "display_data"
    }
   ],
   "source": [
    "idx = 11\n",
    "\n",
    "generateHeatedText(pa.sample['words'][idx],attention_map[idx])\n",
    "generateHeatedText(pa.adversarial_sample['words'][idx],adv_attention_map[idx])"
   ],
   "metadata": {
    "collapsed": false,
    "ExecuteTime": {
     "end_time": "2023-06-14T12:42:47.025827400Z",
     "start_time": "2023-06-14T12:42:46.992146Z"
    }
   }
  },
  {
   "cell_type": "code",
   "execution_count": null,
   "outputs": [],
   "source": [],
   "metadata": {
    "collapsed": false
   }
  }
 ],
 "metadata": {
  "kernelspec": {
   "name": "python3",
   "language": "python",
   "display_name": "Python 3 (ipykernel)"
  },
  "language_info": {
   "codemirror_mode": {
    "name": "ipython",
    "version": 2
   },
   "file_extension": ".py",
   "mimetype": "text/x-python",
   "name": "python",
   "nbconvert_exporter": "python",
   "pygments_lexer": "ipython2",
   "version": "2.7.6"
  }
 },
 "nbformat": 4,
 "nbformat_minor": 0
}
