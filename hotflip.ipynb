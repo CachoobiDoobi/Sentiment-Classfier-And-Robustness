{
 "cells": [
  {
   "cell_type": "code",
   "execution_count": 53,
   "outputs": [],
   "source": [
    "import matplotlib.pyplot as plt\n",
    "import numpy as np\n",
    "import torch\n",
    "import torch.nn as nn\n",
    "import torch.nn.functional as F\n",
    "import torch.optim as optim\n",
    "import torchtext.vocab as vocab\n",
    "from torchtext.data import get_tokenizer\n",
    "from torchtext.datasets import SST2\n",
    "from torch.utils.data import DataLoader\n",
    "from torchtext.vocab import build_vocab_from_iterator\n",
    "import OpenAttack as oa\n",
    "%run models/Linear.ipynb\n",
    "%run models/RNN.ipynb\n",
    "%run models/Attention.ipynb"
   ],
   "metadata": {
    "collapsed": false,
    "ExecuteTime": {
     "end_time": "2023-06-13T17:38:54.092610600Z",
     "start_time": "2023-06-13T17:38:54.071039600Z"
    }
   }
  },
  {
   "cell_type": "code",
   "execution_count": 3,
   "outputs": [],
   "source": [
    "device = torch.device('cuda' if torch.cuda.is_available() else 'cpu')\n",
    "train_iter = SST2(split=\"train\")\n",
    "val_iter = SST2(split=\"dev\")\n",
    "# test_iter = SST2(split=\"test\")\n",
    "\n",
    "tokenizer = get_tokenizer('spacy')\n",
    "\n",
    "def yield_tokens_adv(data_iter):\n",
    "    for text, _ in data_iter:\n",
    "        yield tokenizer(text)"
   ],
   "metadata": {
    "collapsed": false,
    "ExecuteTime": {
     "end_time": "2023-06-13T15:34:55.409839100Z",
     "start_time": "2023-06-13T15:34:54.965670300Z"
    }
   }
  },
  {
   "cell_type": "code",
   "execution_count": 4,
   "outputs": [],
   "source": [
    "vocabulary = build_vocab_from_iterator(yield_tokens_adv(train_iter), specials=[\"<unk>\"])\n",
    "vocabulary.set_default_index(vocabulary[\"<unk>\"])\n",
    "glove_vectors = vocab.GloVe(name='6B', dim=100)\n",
    "vocabulary.vectors = glove_vectors.get_vecs_by_tokens(vocabulary.get_itos())\n",
    "BATCH_SIZE = 128\n",
    "MAX_VOCAB_SIZE = 400000"
   ],
   "metadata": {
    "collapsed": false,
    "ExecuteTime": {
     "end_time": "2023-06-13T15:34:59.367013100Z",
     "start_time": "2023-06-13T15:34:55.413804Z"
    }
   }
  },
  {
   "cell_type": "code",
   "execution_count": 30,
   "outputs": [
    {
     "name": "stderr",
     "output_type": "stream",
     "text": [
      "Found cached dataset sst2 (C:/Users/radug/.cache/huggingface/datasets/sst2/default/2.0.0/9896208a8d85db057ac50c72282bcb8fe755accc671a57dd8059d4e130961ed5)\n"
     ]
    },
    {
     "data": {
      "text/plain": "Map:   0%|          | 0/50 [00:00<?, ? examples/s]",
      "application/vnd.jupyter.widget-view+json": {
       "version_major": 2,
       "version_minor": 0,
       "model_id": "4f24abdc23da4c8e96a32c87b4ec8ce3"
      }
     },
     "metadata": {},
     "output_type": "display_data"
    }
   ],
   "source": [
    "import datasets\n",
    "\n",
    "\n",
    "def dataset_mapping(x):\n",
    "    return {\n",
    "        \"x\": x[\"sentence\"],\n",
    "        \"y\": 1 if x[\"label\"] > 0.5 else 0,\n",
    "    }\n",
    "\n",
    "\n",
    "# configure access interface of the customized victim model by extending OpenAttack.Classifier.\n",
    "class MyClassifier(oa.Classifier):\n",
    "    def __init__(self, model, fc=False):\n",
    "        self.model = model\n",
    "        self.fc = fc\n",
    "    def get_pred(self, input_):\n",
    "        return self.get_prob(input_).argmax(axis=1)\n",
    "\n",
    "    # access to the classification probability scores with respect input sentences\n",
    "    def get_prob(self, input_):\n",
    "        ret = []\n",
    "        for sent in input_:\n",
    "            seq = []\n",
    "            for word in tokenizer(sent):\n",
    "                seq.append(vocabulary[word])\n",
    "            v = torch.tensor(seq).view(1, -1)\n",
    "            v = v.to(device)\n",
    "            if self.fc:\n",
    "                res = self.model.forward(v)\n",
    "            else:\n",
    "                res, _  = self.model.forward(v)\n",
    "            res = F.softmax(res)\n",
    "            res = {\"pos\": res[0, 0].cpu().detach().numpy(), \"neg\": res[0, 1].cpu().detach().numpy()}\n",
    "            # we use 𝑠𝑜𝑐𝑟𝑒_𝑝𝑜𝑠 / (𝑠𝑐𝑜𝑟𝑒_𝑛𝑒𝑔 + 𝑠𝑐𝑜𝑟𝑒_𝑝𝑜𝑠) to represent the probability of positive sentiment\n",
    "            # Adding 10^−6 is a trick to avoid dividing by zero.\n",
    "            prob = (res[\"pos\"] + 1e-6) / (res[\"neg\"] + res[\"pos\"] + 2e-6)\n",
    "\n",
    "            ret.append(np.array([1 - prob, prob]))\n",
    "\n",
    "        # The get_prob method finally returns a np.ndarray of shape (len(input_), 2). See Classifier for detail.\n",
    "        return np.array(ret)\n",
    "\n",
    "\n",
    "dataset = datasets.load_dataset(\"sst2\", split=\"test[:50]\", ).map(function=dataset_mapping)\n",
    "attacker = oa.attackers.hotflip.HotFlipAttacker()"
   ],
   "metadata": {
    "collapsed": false,
    "ExecuteTime": {
     "end_time": "2023-06-13T16:04:49.368350200Z",
     "start_time": "2023-06-13T16:04:47.809775600Z"
    }
   }
  },
  {
   "cell_type": "markdown",
   "source": [
    "### Fully Connected Attack"
   ],
   "metadata": {
    "collapsed": false
   }
  },
  {
   "cell_type": "code",
   "execution_count": 38,
   "outputs": [
    {
     "name": "stderr",
     "output_type": "stream",
     "text": [
      "C:\\Users\\radug\\AppData\\Local\\Temp\\ipykernel_12312\\3204285435.py:32: UserWarning: Implicit dimension choice for softmax has been deprecated. Change the call to include dim=X as an argument.\n",
      "  res = F.softmax(res)\n"
     ]
    },
    {
     "data": {
      "text/plain": "{'Total Attacked Instances': 50,\n 'Successful Instances': 31,\n 'Attack Success Rate': 0.62,\n 'Avg. Running Time': 0.0022866344451904297,\n 'Total Query Exceeded': 0.0,\n 'Avg. Victim Model Queries': 47.94,\n 'Avg. PerturbationPosition': -1.0}"
     },
     "execution_count": 38,
     "metadata": {},
     "output_type": "execute_result"
    }
   ],
   "source": [
    "class PerturbationPosition(oa.AttackMetric):\n",
    "    NAME = \"PerturbationPosition\"\n",
    "    def __init__(self):\n",
    "        self.counts = []\n",
    "    def after_attack(self, sample, adversarial_sample):\n",
    "        # print(sample, adversarial_sample)\n",
    "        if adversarial_sample is None:\n",
    "            return -1\n",
    "        sample = tokenizer(sample[\"sentence\"])\n",
    "        adversarial_sample = tokenizer(adversarial_sample)\n",
    "        for i, (sentence, sentence_adv) in enumerate(zip(sample, adversarial_sample)):\n",
    "            for j , (word1, word2) in enumerate(zip(sentence, sentence_adv)):\n",
    "                if word1 != word2:\n",
    "                    self.counts.append(j / len(sentence))\n",
    "\n",
    "\n",
    "net = FC(vocabulary)\n",
    "net.load_state_dict(torch.load('FC_model.pt'))\n",
    "net.to(device)\n",
    "net.eval()\n",
    "pp = PerturbationPosition()\n",
    "victim = MyClassifier(net, True)# prepare for attacking\n",
    "attack_eval = oa.AttackEval(attacker, victim, metrics=[\n",
    "    pp\n",
    "])\n",
    "# launch attacks and print attack results\n",
    "attack_fc = attack_eval.eval(dataset, visualize=False)\n",
    "attack_fc"
   ],
   "metadata": {
    "collapsed": false,
    "ExecuteTime": {
     "end_time": "2023-06-13T16:10:07.574136100Z",
     "start_time": "2023-06-13T16:10:04.271983700Z"
    }
   }
  },
  {
   "cell_type": "code",
   "execution_count": 39,
   "outputs": [
    {
     "data": {
      "text/plain": "<Figure size 640x480 with 1 Axes>",
      "image/png": "[encoded data removed]"
     },
     "metadata": {},
     "output_type": "display_data"
    }
   ],
   "source": [
    "counts = np.array(pp.counts)\n",
    "counts = counts[counts>=0]\n",
    "c, b = np.histogram(pp.counts, bins=50)\n",
    "plt.stairs(c, b)\n",
    "plt.show()"
   ],
   "metadata": {
    "collapsed": false,
    "ExecuteTime": {
     "end_time": "2023-06-13T16:10:07.695965200Z",
     "start_time": "2023-06-13T16:10:07.576133100Z"
    }
   }
  },
  {
   "cell_type": "markdown",
   "source": [
    "### RNN Attack"
   ],
   "metadata": {
    "collapsed": false
   }
  },
  {
   "cell_type": "code",
   "execution_count": 48,
   "outputs": [
    {
     "name": "stderr",
     "output_type": "stream",
     "text": [
      "C:\\Users\\radug\\AppData\\Local\\Temp\\ipykernel_12312\\3204285435.py:32: UserWarning: Implicit dimension choice for softmax has been deprecated. Change the call to include dim=X as an argument.\n",
      "  res = F.softmax(res)\n"
     ]
    },
    {
     "data": {
      "text/plain": "{'Total Attacked Instances': 50,\n 'Successful Instances': 12,\n 'Attack Success Rate': 0.24,\n 'Avg. Running Time': 0.003641963005065918,\n 'Total Query Exceeded': 0.0,\n 'Avg. Victim Model Queries': 70.98,\n 'Avg. PerturbationPosition': -1.0}"
     },
     "execution_count": 48,
     "metadata": {},
     "output_type": "execute_result"
    }
   ],
   "source": [
    "net = RNN(vocabulary)\n",
    "net.load_state_dict(torch.load('rnn.pt'))\n",
    "net.to(device)\n",
    "net.eval()\n",
    "pp = PerturbationPosition()\n",
    "victim = MyClassifier(net, False)\n",
    "# prepare for attacking\n",
    "attack_eval = oa.AttackEval(attacker, victim, metrics=[\n",
    "    pp\n",
    "])\n",
    "# launch attacks and print attack results\n",
    "attack_rnn = attack_eval.eval(dataset, visualize=False)\n",
    "attack_rnn"
   ],
   "metadata": {
    "collapsed": false,
    "ExecuteTime": {
     "end_time": "2023-06-13T16:41:50.293643400Z",
     "start_time": "2023-06-13T16:41:44.055223100Z"
    }
   }
  },
  {
   "cell_type": "code",
   "execution_count": 49,
   "outputs": [
    {
     "data": {
      "text/plain": "<Figure size 640x480 with 1 Axes>",
      "image/png": "[encoded data removed]"
     },
     "metadata": {},
     "output_type": "display_data"
    }
   ],
   "source": [
    "counts = np.array(pp.counts)\n",
    "counts = counts[counts>=0]\n",
    "c, b = np.histogram(pp.counts, bins=50)\n",
    "plt.stairs(c, b)\n",
    "plt.show()"
   ],
   "metadata": {
    "collapsed": false,
    "ExecuteTime": {
     "end_time": "2023-06-13T16:41:50.435629Z",
     "start_time": "2023-06-13T16:41:50.319096400Z"
    }
   }
  },
  {
   "cell_type": "code",
   "execution_count": 54,
   "outputs": [
    {
     "name": "stderr",
     "output_type": "stream",
     "text": [
      "C:\\Users\\radug\\AppData\\Local\\Temp\\ipykernel_12312\\3204285435.py:32: UserWarning: Implicit dimension choice for softmax has been deprecated. Change the call to include dim=X as an argument.\n",
      "  res = F.softmax(res)\n"
     ]
    },
    {
     "data": {
      "text/plain": "{'Total Attacked Instances': 50,\n 'Successful Instances': 36,\n 'Attack Success Rate': 0.72,\n 'Avg. Running Time': 0.0025842905044555662,\n 'Total Query Exceeded': 0.0,\n 'Avg. Victim Model Queries': 40.5,\n 'Avg. PerturbationPosition': -1.0}"
     },
     "execution_count": 54,
     "metadata": {},
     "output_type": "execute_result"
    }
   ],
   "source": [
    "net = SelfAttention(vocabulary)\n",
    "net.load_state_dict(torch.load('models/attention.pt'))\n",
    "net.to(device)\n",
    "net.eval()\n",
    "pp = PerturbationPosition()\n",
    "victim = MyClassifier(net, fc=False)\n",
    "# prepare for attacking\n",
    "attack_eval = oa.AttackEval(attacker, victim, metrics=[\n",
    "    pp\n",
    "])\n",
    "# launch attacks and print attack results\n",
    "attack_att = attack_eval.eval(dataset, visualize=False)\n",
    "attack_att"
   ],
   "metadata": {
    "collapsed": false,
    "ExecuteTime": {
     "end_time": "2023-06-13T17:39:01.294963500Z",
     "start_time": "2023-06-13T17:38:57.367382800Z"
    }
   }
  },
  {
   "cell_type": "code",
   "execution_count": 55,
   "outputs": [
    {
     "data": {
      "text/plain": "<Figure size 640x480 with 1 Axes>",
      "image/png": "[encoded data removed]"
     },
     "metadata": {},
     "output_type": "display_data"
    }
   ],
   "source": [
    "counts = np.array(pp.counts)\n",
    "counts = counts[counts>=0]\n",
    "c, b = np.histogram(pp.counts, bins=50)\n",
    "plt.stairs(c, b)\n",
    "plt.show()"
   ],
   "metadata": {
    "collapsed": false,
    "ExecuteTime": {
     "end_time": "2023-06-13T17:39:16.380553400Z",
     "start_time": "2023-06-13T17:39:16.240760400Z"
    }
   }
  },
  {
   "cell_type": "code",
   "execution_count": null,
   "outputs": [],
   "source": [],
   "metadata": {
    "collapsed": false
   }
  }
 ],
 "metadata": {
  "kernelspec": {
   "display_name": "Python 3",
   "language": "python",
   "name": "python3"
  },
  "language_info": {
   "codemirror_mode": {
    "name": "ipython",
    "version": 2
   },
   "file_extension": ".py",
   "mimetype": "text/x-python",
   "name": "python",
   "nbconvert_exporter": "python",
   "pygments_lexer": "ipython2",
   "version": "2.7.6"
  }
 },
 "nbformat": 4,
 "nbformat_minor": 0
}
