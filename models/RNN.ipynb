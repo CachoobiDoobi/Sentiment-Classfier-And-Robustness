{
 "cells": [
  {
   "cell_type": "code",
   "execution_count": 1,
   "metadata": {
    "collapsed": true
   },
   "outputs": [],
   "source": [
    "import torch\n",
    "from torch import nn\n",
    "import torch.nn.functional as F\n",
    "\n",
    "class RNN(nn.Module):\n",
    "    def __init__(self, vocabulary, embedding_dim=100, hidden_dim=100, output_dim=2):\n",
    "\n",
    "        super().__init__()\n",
    "        self.embedding = nn.Embedding.from_pretrained(vocabulary.vectors)\n",
    "        self.embedding.weight.requires_grad = False\n",
    "        self.rnn = nn.RNN(embedding_dim, hidden_dim, bidirectional=True, batch_first=True)\n",
    "        self.out = nn.Linear(hidden_dim, output_dim)\n",
    "        self.hidden = hidden_dim\n",
    "        self.att = nn.Linear(hidden_dim, hidden_dim)\n",
    "\n",
    "    def compute_attention(self, x):\n",
    "        w = F.tanh(self.att(x))\n",
    "        w = F.softmax(w, dim=1)\n",
    "        x = x * w\n",
    "        return x, w\n",
    "    def forward(self, X):\n",
    "        input = self.embedding(X)\n",
    "\n",
    "        output, final_hidden_state = self.rnn(input)\n",
    "        final_hidden_state = final_hidden_state.mean(dim=0)\n",
    "\n",
    "        attn_output, attention = self.compute_attention(final_hidden_state)\n",
    "        return self.out(attn_output), attention"
   ]
  }
 ],
 "metadata": {
  "kernelspec": {
   "display_name": "Python 3",
   "language": "python",
   "name": "python3"
  },
  "language_info": {
   "codemirror_mode": {
    "name": "ipython",
    "version": 2
   },
   "file_extension": ".py",
   "mimetype": "text/x-python",
   "name": "python",
   "nbconvert_exporter": "python",
   "pygments_lexer": "ipython2",
   "version": "2.7.6"
  }
 },
 "nbformat": 4,
 "nbformat_minor": 0
}
