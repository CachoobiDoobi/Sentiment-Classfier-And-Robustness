{
 "cells": [
  {
   "cell_type": "code",
   "execution_count": 106,
   "metadata": {
    "ExecuteTime": {
     "end_time": "2023-06-17T11:47:07.007187400Z",
     "start_time": "2023-06-17T11:47:06.913535700Z"
    }
   },
   "outputs": [],
   "source": [
    "import matplotlib.pyplot as plt\n",
    "import torch\n",
    "import torch.nn as nn\n",
    "import torch.nn.functional as F\n",
    "import torch.optim as optim\n",
    "import torchtext.vocab as vocab\n",
    "from torch.utils.data import DataLoader\n",
    "from torchtext.data import get_tokenizer\n",
    "from torchtext.datasets import SST2\n",
    "from torchtext.vocab import build_vocab_from_iterator\n",
    "\n",
    "device = torch.device('cuda' if torch.cuda.is_available() else 'cpu')\n",
    "%run models/RNN.ipynb"
   ]
  },
  {
   "cell_type": "code",
   "execution_count": 107,
   "outputs": [],
   "source": [
    "train_iter = SST2(split=\"train\")\n",
    "val_iter = SST2(split=\"dev\")\n",
    "\n",
    "tokenizer = get_tokenizer('spacy')\n",
    "\n",
    "\n",
    "def yield_tokens(data_iter):\n",
    "    for text, _ in data_iter:\n",
    "        yield tokenizer(text)\n",
    "\n",
    "\n",
    "vocabulary = build_vocab_from_iterator(yield_tokens(train_iter), specials=[\"<unk>\"])\n",
    "vocabulary.set_default_index(vocabulary[\"<unk>\"])"
   ],
   "metadata": {
    "collapsed": false,
    "ExecuteTime": {
     "end_time": "2023-06-17T11:47:11.889837Z",
     "start_time": "2023-06-17T11:47:06.931090100Z"
    }
   }
  },
  {
   "cell_type": "code",
   "execution_count": 108,
   "outputs": [],
   "source": [
    "def yield_tokens_adv(data_iter):\n",
    "    for text, _ in data_iter:\n",
    "        yield tokenizer(text)\n",
    "\n",
    "\n",
    "vocabulary = build_vocab_from_iterator(yield_tokens_adv(train_iter), specials=[\"<unk>\"])\n",
    "vocabulary.set_default_index(vocabulary[\"<unk>\"])"
   ],
   "metadata": {
    "collapsed": false,
    "ExecuteTime": {
     "end_time": "2023-06-17T11:47:15.418698Z",
     "start_time": "2023-06-17T11:47:11.894334Z"
    }
   }
  },
  {
   "cell_type": "code",
   "execution_count": 109,
   "metadata": {
    "ExecuteTime": {
     "end_time": "2023-06-17T11:47:16.685450200Z",
     "start_time": "2023-06-17T11:47:15.418191700Z"
    }
   },
   "outputs": [],
   "source": [
    "glove_vectors = vocab.GloVe(name='6B', dim=100)\n",
    "vocabulary.vectors = glove_vectors.get_vecs_by_tokens(vocabulary.get_itos())"
   ]
  },
  {
   "cell_type": "code",
   "execution_count": 110,
   "metadata": {
    "ExecuteTime": {
     "end_time": "2023-06-17T11:47:16.699736200Z",
     "start_time": "2023-06-17T11:47:16.693154100Z"
    }
   },
   "outputs": [],
   "source": [
    "BATCH_SIZE = 128\n",
    "\n",
    "\n",
    "def collate(x):\n",
    "    batch = []\n",
    "    for item in x:\n",
    "        seq = []\n",
    "        for word in tokenizer(item[0]):\n",
    "            seq.append(vocabulary[word])\n",
    "        batch.append(torch.tensor(seq))\n",
    "    l = torch.tensor([item[1] for item in x]).unsqueeze(dim=1)\n",
    "    return nn.utils.rnn.pad_sequence(batch, padding_value=vocabulary[\"<pad>\"], batch_first=True), l"
   ]
  },
  {
   "cell_type": "code",
   "execution_count": 111,
   "metadata": {
    "ExecuteTime": {
     "end_time": "2023-06-17T11:47:16.739672200Z",
     "start_time": "2023-06-17T11:47:16.703726300Z"
    }
   },
   "outputs": [],
   "source": [
    "train_loader = DataLoader(train_iter, batch_size=BATCH_SIZE, collate_fn=lambda x: collate(x), drop_last=True)\n",
    "val_loader = DataLoader(val_iter, batch_size=BATCH_SIZE, collate_fn=lambda x: collate(x), drop_last=True)"
   ]
  },
  {
   "cell_type": "code",
   "execution_count": 112,
   "metadata": {
    "ExecuteTime": {
     "end_time": "2023-06-17T11:47:16.778750Z",
     "start_time": "2023-06-17T11:47:16.715100900Z"
    }
   },
   "outputs": [],
   "source": [
    "EMBEDDING_DIM = 100\n",
    "HIDDEN_DIM = 100\n",
    "OUTPUT_DIM = 2\n",
    "\n",
    "model = RNN(vocabulary, EMBEDDING_DIM, HIDDEN_DIM, OUTPUT_DIM)"
   ]
  },
  {
   "cell_type": "code",
   "execution_count": 113,
   "metadata": {
    "ExecuteTime": {
     "end_time": "2023-06-17T11:47:16.779521500Z",
     "start_time": "2023-06-17T11:47:16.725342400Z"
    }
   },
   "outputs": [
    {
     "name": "stdout",
     "output_type": "stream",
     "text": [
      "The model has 50,702 trainable parameters\n"
     ]
    }
   ],
   "source": [
    "def count_parameters(model):\n",
    "    return sum(p.numel() for p in model.parameters() if p.requires_grad)\n",
    "\n",
    "\n",
    "print(f'The model has {count_parameters(model):,} trainable parameters')"
   ]
  },
  {
   "cell_type": "markdown",
   "metadata": {},
   "source": [
    "\n",
    "## Train the Model"
   ]
  },
  {
   "cell_type": "code",
   "execution_count": 114,
   "metadata": {
    "ExecuteTime": {
     "end_time": "2023-06-17T11:47:16.779521500Z",
     "start_time": "2023-06-17T11:47:16.739672200Z"
    }
   },
   "outputs": [],
   "source": [
    "optimizer = optim.Adam(model.parameters(), lr=5e-3)\n",
    "criterion = nn.CrossEntropyLoss().to(device)\n",
    "model = model.to(device).float()\n",
    "criterion = criterion.to(device)"
   ]
  },
  {
   "cell_type": "code",
   "execution_count": 115,
   "metadata": {
    "ExecuteTime": {
     "end_time": "2023-06-17T11:47:16.781040900Z",
     "start_time": "2023-06-17T11:47:16.762652Z"
    }
   },
   "outputs": [],
   "source": [
    "def binary_accuracy(preds, y):\n",
    "    # round predictions to the closest integer\n",
    "    rounded_preds = torch.round(torch.sigmoid(preds))\n",
    "    correct = (rounded_preds == y).float()  # convert into float for division\n",
    "    acc = correct.sum() / len(correct)\n",
    "    return acc"
   ]
  },
  {
   "cell_type": "code",
   "execution_count": 116,
   "metadata": {
    "ExecuteTime": {
     "end_time": "2023-06-17T11:47:16.974329Z",
     "start_time": "2023-06-17T11:47:16.769743500Z"
    }
   },
   "outputs": [],
   "source": [
    "def train(model, iterator, optimizer, criterion):\n",
    "    epoch_loss = 0\n",
    "    epoch_acc = 0\n",
    "\n",
    "    model.train()\n",
    "    c = 0\n",
    "    for inputs, labels in iterator:\n",
    "        c += 1\n",
    "        inputs = inputs.to(device)\n",
    "        labels = labels.view(-1).to(device)\n",
    "        optimizer.zero_grad()\n",
    "        predictions, _ = model(inputs)\n",
    "        predictions = predictions.float()\n",
    "        loss = criterion(predictions, F.one_hot(labels, num_classes=2).float())\n",
    "        acc = binary_accuracy(predictions.argmax(-1), labels)\n",
    "\n",
    "        loss.backward()\n",
    "\n",
    "        optimizer.step()\n",
    "\n",
    "        epoch_loss += loss.item()\n",
    "        epoch_acc += acc.item()\n",
    "\n",
    "    return epoch_loss / c, epoch_acc / c"
   ]
  },
  {
   "cell_type": "code",
   "execution_count": 117,
   "metadata": {
    "ExecuteTime": {
     "end_time": "2023-06-17T11:47:17.011939400Z",
     "start_time": "2023-06-17T11:47:16.785057200Z"
    }
   },
   "outputs": [],
   "source": [
    "def evaluate(model, iterator, criterion):\n",
    "    epoch_loss = 0\n",
    "    epoch_acc = 0\n",
    "    c = 0\n",
    "    model.eval()\n",
    "\n",
    "    with torch.no_grad():\n",
    "        for inputs, labels in iterator:\n",
    "            c += 1\n",
    "            inputs = inputs.to(device)\n",
    "            labels = labels.view(-1).to(device)\n",
    "            predictions, _ = model(inputs)\n",
    "            predictions = predictions.float()\n",
    "            loss = criterion(predictions, F.one_hot(labels, num_classes=2).float())\n",
    "            acc = binary_accuracy(predictions.argmax(-1), labels)\n",
    "\n",
    "            epoch_loss += loss.item()\n",
    "            epoch_acc += acc.item()\n",
    "    return epoch_loss / c, epoch_acc / c"
   ]
  },
  {
   "cell_type": "code",
   "execution_count": 118,
   "metadata": {
    "ExecuteTime": {
     "end_time": "2023-06-17T11:47:17.014931800Z",
     "start_time": "2023-06-17T11:47:16.891665900Z"
    }
   },
   "outputs": [],
   "source": [
    "import time\n",
    "\n",
    "\n",
    "def epoch_time(start_time, end_time):\n",
    "    elapsed_time = end_time - start_time\n",
    "    elapsed_mins = int(elapsed_time / 60)\n",
    "    elapsed_secs = int(elapsed_time - (elapsed_mins * 60))\n",
    "    return elapsed_mins, elapsed_secs"
   ]
  },
  {
   "cell_type": "code",
   "execution_count": 124,
   "metadata": {
    "ExecuteTime": {
     "end_time": "2023-06-17T13:10:23.774005400Z",
     "start_time": "2023-06-17T13:07:47.754823600Z"
    }
   },
   "outputs": [
    {
     "name": "stdout",
     "output_type": "stream",
     "text": [
      "Epoch: 01 | Epoch Time: 0m 8s\n",
      "\tTrain Loss: 0.564 | Train Acc: 70.84%\n",
      "\t Val. Loss: 0.599 |  Val. Acc: 68.75%\n",
      "Epoch: 02 | Epoch Time: 0m 7s\n",
      "\tTrain Loss: 0.481 | Train Acc: 77.48%\n",
      "\t Val. Loss: 0.550 |  Val. Acc: 74.61%\n",
      "Epoch: 03 | Epoch Time: 0m 8s\n",
      "\tTrain Loss: 0.456 | Train Acc: 79.01%\n",
      "\t Val. Loss: 0.551 |  Val. Acc: 74.48%\n",
      "Epoch: 04 | Epoch Time: 0m 7s\n",
      "\tTrain Loss: 0.454 | Train Acc: 79.05%\n",
      "\t Val. Loss: 0.586 |  Val. Acc: 73.44%\n",
      "Epoch: 05 | Epoch Time: 0m 7s\n",
      "\tTrain Loss: 0.435 | Train Acc: 80.44%\n",
      "\t Val. Loss: 0.537 |  Val. Acc: 72.92%\n",
      "Epoch: 06 | Epoch Time: 0m 7s\n",
      "\tTrain Loss: 0.427 | Train Acc: 80.88%\n",
      "\t Val. Loss: 0.524 |  Val. Acc: 75.13%\n",
      "Epoch: 07 | Epoch Time: 0m 7s\n",
      "\tTrain Loss: 0.441 | Train Acc: 79.39%\n",
      "\t Val. Loss: 0.844 |  Val. Acc: 58.33%\n",
      "Epoch: 08 | Epoch Time: 0m 7s\n",
      "\tTrain Loss: 0.447 | Train Acc: 79.19%\n",
      "\t Val. Loss: 0.539 |  Val. Acc: 73.57%\n",
      "Epoch: 09 | Epoch Time: 0m 9s\n",
      "\tTrain Loss: 0.429 | Train Acc: 80.54%\n",
      "\t Val. Loss: 0.538 |  Val. Acc: 72.27%\n",
      "Epoch: 10 | Epoch Time: 0m 8s\n",
      "\tTrain Loss: 0.416 | Train Acc: 81.51%\n",
      "\t Val. Loss: 0.534 |  Val. Acc: 74.61%\n",
      "Epoch: 11 | Epoch Time: 0m 7s\n",
      "\tTrain Loss: 0.454 | Train Acc: 78.96%\n",
      "\t Val. Loss: 0.584 |  Val. Acc: 72.14%\n",
      "Epoch: 12 | Epoch Time: 0m 7s\n",
      "\tTrain Loss: 0.457 | Train Acc: 78.92%\n",
      "\t Val. Loss: 0.553 |  Val. Acc: 72.14%\n",
      "Epoch: 13 | Epoch Time: 0m 7s\n",
      "\tTrain Loss: 0.429 | Train Acc: 80.48%\n",
      "\t Val. Loss: 0.534 |  Val. Acc: 72.14%\n",
      "Epoch: 14 | Epoch Time: 0m 7s\n",
      "\tTrain Loss: 0.418 | Train Acc: 81.30%\n",
      "\t Val. Loss: 0.585 |  Val. Acc: 73.96%\n",
      "Epoch: 15 | Epoch Time: 0m 7s\n",
      "\tTrain Loss: 0.417 | Train Acc: 81.56%\n",
      "\t Val. Loss: 0.555 |  Val. Acc: 74.09%\n",
      "Epoch: 16 | Epoch Time: 0m 7s\n",
      "\tTrain Loss: 0.423 | Train Acc: 80.71%\n",
      "\t Val. Loss: 0.518 |  Val. Acc: 74.74%\n",
      "Epoch: 17 | Epoch Time: 0m 7s\n",
      "\tTrain Loss: 0.412 | Train Acc: 81.79%\n",
      "\t Val. Loss: 0.529 |  Val. Acc: 74.74%\n",
      "Epoch: 18 | Epoch Time: 0m 7s\n",
      "\tTrain Loss: 0.406 | Train Acc: 81.89%\n",
      "\t Val. Loss: 0.525 |  Val. Acc: 75.26%\n",
      "Epoch: 19 | Epoch Time: 0m 7s\n",
      "\tTrain Loss: 0.422 | Train Acc: 81.18%\n",
      "\t Val. Loss: 0.568 |  Val. Acc: 73.83%\n",
      "Epoch: 20 | Epoch Time: 0m 7s\n",
      "\tTrain Loss: 0.417 | Train Acc: 81.56%\n",
      "\t Val. Loss: 0.530 |  Val. Acc: 73.70%\n"
     ]
    }
   ],
   "source": [
    "N_EPOCHS = 20\n",
    "\n",
    "best_valid_loss = float('inf')\n",
    "\n",
    "train_losses = []\n",
    "val_losses = []\n",
    "train_accuracy = []\n",
    "val_accuracy = []\n",
    "for epoch in range(N_EPOCHS):\n",
    "\n",
    "    start_time = time.time()\n",
    "\n",
    "    train_loss, train_acc = train(model, train_loader, optimizer, criterion)\n",
    "    valid_loss, valid_acc = evaluate(model, val_loader, criterion)\n",
    "\n",
    "    train_losses.append(train_loss)\n",
    "    train_accuracy.append(train_acc)\n",
    "    val_losses.append(valid_loss)\n",
    "    val_accuracy.append(valid_acc)\n",
    "\n",
    "    end_time = time.time()\n",
    "\n",
    "    epoch_mins, epoch_secs = epoch_time(start_time, end_time)\n",
    "\n",
    "    if valid_loss < best_valid_loss:\n",
    "        best_valid_loss = valid_loss\n",
    "        torch.save(model.state_dict(), 'models/rnn.pt')\n",
    "\n",
    "    print(f'Epoch: {epoch + 1:02} | Epoch Time: {epoch_mins}m {epoch_secs}s')\n",
    "    print(f'\\tTrain Loss: {train_loss:.3f} | Train Acc: {train_acc * 100:.2f}%')\n",
    "    print(f'\\t Val. Loss: {valid_loss:.3f} |  Val. Acc: {valid_acc * 100:.2f}%')"
   ]
  },
  {
   "cell_type": "code",
   "execution_count": 127,
   "outputs": [
    {
     "data": {
      "text/plain": "<Figure size 640x480 with 1 Axes>",
      "image/png": "[encoded data removed]"
     },
     "metadata": {},
     "output_type": "display_data"
    }
   ],
   "source": [
    "plt.plot(train_losses, label='train')\n",
    "plt.plot(val_losses, label='val')\n",
    "plt.xlabel(\"Epochs\")\n",
    "plt.ylabel(\"Loss\")\n",
    "plt.legend()\n",
    "plt.grid()\n",
    "plt.show()"
   ],
   "metadata": {
    "collapsed": false,
    "ExecuteTime": {
     "end_time": "2023-06-17T13:11:30.967936600Z",
     "start_time": "2023-06-17T13:11:30.741097300Z"
    }
   }
  },
  {
   "cell_type": "code",
   "execution_count": 128,
   "outputs": [
    {
     "data": {
      "text/plain": "<Figure size 640x480 with 1 Axes>",
      "image/png": "[encoded data removed]"
     },
     "metadata": {},
     "output_type": "display_data"
    }
   ],
   "source": [
    "plt.plot(train_accuracy, label='train')\n",
    "plt.plot(val_accuracy, label='val')\n",
    "plt.xlabel(\"Epochs\")\n",
    "plt.ylabel(\"Accuracy\")\n",
    "plt.legend()\n",
    "plt.grid()\n",
    "plt.show()"
   ],
   "metadata": {
    "collapsed": false,
    "ExecuteTime": {
     "end_time": "2023-06-17T13:11:31.883992300Z",
     "start_time": "2023-06-17T13:11:31.699550800Z"
    }
   }
  },
  {
   "cell_type": "code",
   "execution_count": 123,
   "outputs": [],
   "source": [],
   "metadata": {
    "collapsed": false,
    "ExecuteTime": {
     "end_time": "2023-06-17T13:07:32.106905Z",
     "start_time": "2023-06-17T13:07:32.043650900Z"
    }
   }
  },
  {
   "cell_type": "code",
   "execution_count": null,
   "outputs": [],
   "source": [],
   "metadata": {
    "collapsed": false
   }
  }
 ],
 "metadata": {
  "kernelspec": {
   "display_name": "Python 3",
   "language": "python",
   "name": "python3"
  },
  "language_info": {
   "codemirror_mode": {
    "name": "ipython",
    "version": 3
   },
   "file_extension": ".py",
   "mimetype": "text/x-python",
   "name": "python",
   "nbconvert_exporter": "python",
   "pygments_lexer": "ipython3",
   "version": "3.8.5"
  }
 },
 "nbformat": 4,
 "nbformat_minor": 2
}
