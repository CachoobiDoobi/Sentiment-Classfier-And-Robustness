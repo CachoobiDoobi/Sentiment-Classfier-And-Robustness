{
 "cells": [
  {
   "cell_type": "code",
   "execution_count": 1,
   "metadata": {
    "ExecuteTime": {
     "end_time": "2023-06-14T13:11:01.243968600Z",
     "start_time": "2023-06-14T13:10:53.764681900Z"
    }
   },
   "outputs": [],
   "source": [
    "import matplotlib.pyplot as plt\n",
    "import torch\n",
    "import torch.nn as nn\n",
    "import torch.nn.functional as F\n",
    "import torch.optim as optim\n",
    "import torchtext.vocab as vocab\n",
    "from torch.utils.data import DataLoader\n",
    "from torchtext.data import get_tokenizer\n",
    "from torchtext.datasets import SST2\n",
    "from torchtext.vocab import build_vocab_from_iterator\n",
    "\n",
    "device = torch.device('cuda' if torch.cuda.is_available() else 'cpu')\n",
    "%run models/RNN.ipynb"
   ]
  },
  {
   "cell_type": "code",
   "execution_count": 2,
   "outputs": [
    {
     "name": "stderr",
     "output_type": "stream",
     "text": [
      "D:\\Python\\Lib\\site-packages\\torchtext\\data\\utils.py:105: UserWarning: Spacy model \"en\" could not be loaded, trying \"en_core_web_sm\" instead\n",
      "  warnings.warn(\n"
     ]
    }
   ],
   "source": [
    "train_iter = SST2(split=\"train\")\n",
    "val_iter = SST2(split=\"dev\")\n",
    "\n",
    "tokenizer = get_tokenizer('spacy')\n",
    "\n",
    "\n",
    "def yield_tokens(data_iter):\n",
    "    for text, _ in data_iter:\n",
    "        yield tokenizer(text)\n",
    "\n",
    "\n",
    "vocabulary = build_vocab_from_iterator(yield_tokens(train_iter), specials=[\"<unk>\"])\n",
    "vocabulary.set_default_index(vocabulary[\"<unk>\"])"
   ],
   "metadata": {
    "collapsed": false,
    "ExecuteTime": {
     "end_time": "2023-06-14T13:11:07.197164400Z",
     "start_time": "2023-06-14T13:11:01.356277700Z"
    }
   }
  },
  {
   "cell_type": "code",
   "execution_count": 3,
   "outputs": [],
   "source": [
    "def yield_tokens_adv(data_iter):\n",
    "    for text, _ in data_iter:\n",
    "        yield tokenizer(text)\n",
    "\n",
    "\n",
    "vocabulary = build_vocab_from_iterator(yield_tokens_adv(train_iter), specials=[\"<unk>\"])\n",
    "vocabulary.set_default_index(vocabulary[\"<unk>\"])"
   ],
   "metadata": {
    "collapsed": false,
    "ExecuteTime": {
     "end_time": "2023-06-14T13:11:10.495270700Z",
     "start_time": "2023-06-14T13:11:07.199829500Z"
    }
   }
  },
  {
   "cell_type": "code",
   "execution_count": 4,
   "metadata": {
    "ExecuteTime": {
     "end_time": "2023-06-14T13:11:11.208730500Z",
     "start_time": "2023-06-14T13:11:10.501085900Z"
    }
   },
   "outputs": [],
   "source": [
    "glove_vectors = vocab.GloVe(name='6B', dim=100)\n",
    "vocabulary.vectors = glove_vectors.get_vecs_by_tokens(vocabulary.get_itos())"
   ]
  },
  {
   "cell_type": "code",
   "execution_count": 5,
   "metadata": {
    "ExecuteTime": {
     "end_time": "2023-06-14T13:11:11.216273700Z",
     "start_time": "2023-06-14T13:11:11.213716400Z"
    }
   },
   "outputs": [],
   "source": [
    "BATCH_SIZE = 128\n",
    "\n",
    "\n",
    "def collate(x):\n",
    "    batch = []\n",
    "    for item in x:\n",
    "        seq = []\n",
    "        for word in tokenizer(item[0]):\n",
    "            seq.append(vocabulary[word])\n",
    "        batch.append(torch.tensor(seq))\n",
    "    l = torch.tensor([item[1] for item in x]).unsqueeze(dim=1)\n",
    "    return nn.utils.rnn.pad_sequence(batch, padding_value=vocabulary[\"<pad>\"], batch_first=True), l"
   ]
  },
  {
   "cell_type": "code",
   "execution_count": 6,
   "metadata": {
    "ExecuteTime": {
     "end_time": "2023-06-14T13:11:11.224398100Z",
     "start_time": "2023-06-14T13:11:11.219387400Z"
    }
   },
   "outputs": [],
   "source": [
    "train_loader = DataLoader(train_iter, batch_size=BATCH_SIZE, collate_fn=lambda x: collate(x), drop_last=True)\n",
    "val_loader = DataLoader(val_iter, batch_size=BATCH_SIZE, collate_fn=lambda x: collate(x), drop_last=True)"
   ]
  },
  {
   "cell_type": "code",
   "execution_count": 7,
   "metadata": {
    "ExecuteTime": {
     "end_time": "2023-06-14T13:11:11.233572800Z",
     "start_time": "2023-06-14T13:11:11.226369600Z"
    }
   },
   "outputs": [],
   "source": [
    "EMBEDDING_DIM = 100\n",
    "HIDDEN_DIM = 100\n",
    "OUTPUT_DIM = 2\n",
    "\n",
    "model = RNN(vocabulary, EMBEDDING_DIM, HIDDEN_DIM, OUTPUT_DIM)"
   ]
  },
  {
   "cell_type": "code",
   "execution_count": 8,
   "metadata": {
    "ExecuteTime": {
     "end_time": "2023-06-14T13:11:11.247428500Z",
     "start_time": "2023-06-14T13:11:11.236567400Z"
    }
   },
   "outputs": [
    {
     "name": "stdout",
     "output_type": "stream",
     "text": [
      "The model has 40,802 trainable parameters\n"
     ]
    }
   ],
   "source": [
    "def count_parameters(model):\n",
    "    return sum(p.numel() for p in model.parameters() if p.requires_grad)\n",
    "\n",
    "\n",
    "print(f'The model has {count_parameters(model):,} trainable parameters')"
   ]
  },
  {
   "cell_type": "markdown",
   "metadata": {},
   "source": [
    "\n",
    "## Train the Model"
   ]
  },
  {
   "cell_type": "code",
   "execution_count": 9,
   "metadata": {
    "ExecuteTime": {
     "end_time": "2023-06-14T13:11:14.086345100Z",
     "start_time": "2023-06-14T13:11:11.246429Z"
    }
   },
   "outputs": [],
   "source": [
    "optimizer = optim.Adam(model.parameters(), lr=5e-3)\n",
    "criterion = nn.CrossEntropyLoss().to(device)\n",
    "model = model.to(device).float()\n",
    "criterion = criterion.to(device)"
   ]
  },
  {
   "cell_type": "code",
   "execution_count": 10,
   "metadata": {
    "ExecuteTime": {
     "end_time": "2023-06-14T13:11:14.092762600Z",
     "start_time": "2023-06-14T13:11:14.087342600Z"
    }
   },
   "outputs": [],
   "source": [
    "def binary_accuracy(preds, y):\n",
    "    # round predictions to the closest integer\n",
    "    rounded_preds = torch.round(torch.sigmoid(preds))\n",
    "    correct = (rounded_preds == y).float()  # convert into float for division\n",
    "    acc = correct.sum() / len(correct)\n",
    "    return acc"
   ]
  },
  {
   "cell_type": "code",
   "execution_count": 11,
   "metadata": {
    "ExecuteTime": {
     "end_time": "2023-06-14T13:11:14.106078800Z",
     "start_time": "2023-06-14T13:11:14.097800900Z"
    }
   },
   "outputs": [],
   "source": [
    "def train(model, iterator, optimizer, criterion):\n",
    "    epoch_loss = 0\n",
    "    epoch_acc = 0\n",
    "\n",
    "    model.train()\n",
    "    c = 0\n",
    "    for inputs, labels in iterator:\n",
    "        c += 1\n",
    "        inputs = inputs.to(device)\n",
    "        labels = labels.view(-1).to(device)\n",
    "        optimizer.zero_grad()\n",
    "        predictions, _ = model(inputs)\n",
    "        predictions = predictions.float()\n",
    "        loss = criterion(predictions, F.one_hot(labels, num_classes=2).float())\n",
    "        acc = binary_accuracy(predictions.argmax(-1), labels)\n",
    "\n",
    "        loss.backward()\n",
    "\n",
    "        optimizer.step()\n",
    "\n",
    "        epoch_loss += loss.item()\n",
    "        epoch_acc += acc.item()\n",
    "\n",
    "    return epoch_loss / c, epoch_acc / c"
   ]
  },
  {
   "cell_type": "code",
   "execution_count": 12,
   "metadata": {
    "ExecuteTime": {
     "end_time": "2023-06-14T13:11:14.122288Z",
     "start_time": "2023-06-14T13:11:14.107076600Z"
    }
   },
   "outputs": [],
   "source": [
    "def evaluate(model, iterator, criterion):\n",
    "    epoch_loss = 0\n",
    "    epoch_acc = 0\n",
    "    c = 0\n",
    "    model.eval()\n",
    "\n",
    "    with torch.no_grad():\n",
    "        for inputs, labels in iterator:\n",
    "            c += 1\n",
    "            inputs = inputs.to(device)\n",
    "            labels = labels.view(-1).to(device)\n",
    "            predictions, _ = model(inputs)\n",
    "            predictions = predictions.float()\n",
    "            loss = criterion(predictions, F.one_hot(labels, num_classes=2).float())\n",
    "            acc = binary_accuracy(predictions.argmax(-1), labels)\n",
    "\n",
    "            epoch_loss += loss.item()\n",
    "            epoch_acc += acc.item()\n",
    "    return epoch_loss / c, epoch_acc / c"
   ]
  },
  {
   "cell_type": "code",
   "execution_count": 13,
   "metadata": {
    "ExecuteTime": {
     "end_time": "2023-06-14T13:11:14.128275800Z",
     "start_time": "2023-06-14T13:11:14.121024300Z"
    }
   },
   "outputs": [],
   "source": [
    "import time\n",
    "\n",
    "\n",
    "def epoch_time(start_time, end_time):\n",
    "    elapsed_time = end_time - start_time\n",
    "    elapsed_mins = int(elapsed_time / 60)\n",
    "    elapsed_secs = int(elapsed_time - (elapsed_mins * 60))\n",
    "    return elapsed_mins, elapsed_secs"
   ]
  },
  {
   "cell_type": "code",
   "execution_count": 14,
   "metadata": {
    "ExecuteTime": {
     "end_time": "2023-06-14T13:13:44.125967100Z",
     "start_time": "2023-06-14T13:11:14.134262800Z"
    }
   },
   "outputs": [
    {
     "name": "stdout",
     "output_type": "stream",
     "text": [
      "Epoch: 01 | Epoch Time: 0m 7s\n",
      "\tTrain Loss: 0.483 | Train Acc: 76.72%\n",
      "\t Val. Loss: 0.514 |  Val. Acc: 75.52%\n",
      "Epoch: 02 | Epoch Time: 0m 7s\n",
      "\tTrain Loss: 0.435 | Train Acc: 80.05%\n",
      "\t Val. Loss: 0.539 |  Val. Acc: 76.04%\n",
      "Epoch: 03 | Epoch Time: 0m 7s\n",
      "\tTrain Loss: 0.415 | Train Acc: 81.03%\n",
      "\t Val. Loss: 0.539 |  Val. Acc: 74.22%\n",
      "Epoch: 04 | Epoch Time: 0m 7s\n",
      "\tTrain Loss: 0.404 | Train Acc: 81.91%\n",
      "\t Val. Loss: 0.526 |  Val. Acc: 76.17%\n",
      "Epoch: 05 | Epoch Time: 0m 7s\n",
      "\tTrain Loss: 0.497 | Train Acc: 73.38%\n",
      "\t Val. Loss: 0.565 |  Val. Acc: 76.04%\n",
      "Epoch: 06 | Epoch Time: 0m 7s\n",
      "\tTrain Loss: 0.487 | Train Acc: 76.34%\n",
      "\t Val. Loss: 0.610 |  Val. Acc: 68.88%\n",
      "Epoch: 07 | Epoch Time: 0m 7s\n",
      "\tTrain Loss: 0.455 | Train Acc: 79.03%\n",
      "\t Val. Loss: 0.556 |  Val. Acc: 73.57%\n",
      "Epoch: 08 | Epoch Time: 0m 7s\n",
      "\tTrain Loss: 0.438 | Train Acc: 80.39%\n",
      "\t Val. Loss: 1.210 |  Val. Acc: 59.77%\n",
      "Epoch: 09 | Epoch Time: 0m 8s\n",
      "\tTrain Loss: 0.624 | Train Acc: 63.03%\n",
      "\t Val. Loss: 0.674 |  Val. Acc: 60.16%\n",
      "Epoch: 10 | Epoch Time: 0m 7s\n",
      "\tTrain Loss: 0.608 | Train Acc: 64.18%\n",
      "\t Val. Loss: 0.648 |  Val. Acc: 61.59%\n",
      "Epoch: 11 | Epoch Time: 0m 7s\n",
      "\tTrain Loss: 0.587 | Train Acc: 65.84%\n",
      "\t Val. Loss: 0.628 |  Val. Acc: 60.81%\n",
      "Epoch: 12 | Epoch Time: 0m 7s\n",
      "\tTrain Loss: 0.570 | Train Acc: 67.17%\n",
      "\t Val. Loss: 0.636 |  Val. Acc: 61.07%\n",
      "Epoch: 13 | Epoch Time: 0m 7s\n",
      "\tTrain Loss: 0.566 | Train Acc: 66.98%\n",
      "\t Val. Loss: 0.630 |  Val. Acc: 61.98%\n",
      "Epoch: 14 | Epoch Time: 0m 7s\n",
      "\tTrain Loss: 0.557 | Train Acc: 67.44%\n",
      "\t Val. Loss: 0.627 |  Val. Acc: 63.41%\n",
      "Epoch: 15 | Epoch Time: 0m 7s\n",
      "\tTrain Loss: 0.545 | Train Acc: 68.15%\n",
      "\t Val. Loss: 0.634 |  Val. Acc: 63.93%\n",
      "Epoch: 16 | Epoch Time: 0m 7s\n",
      "\tTrain Loss: 0.535 | Train Acc: 68.74%\n",
      "\t Val. Loss: 0.618 |  Val. Acc: 64.45%\n",
      "Epoch: 17 | Epoch Time: 0m 7s\n",
      "\tTrain Loss: 0.532 | Train Acc: 68.91%\n",
      "\t Val. Loss: 0.648 |  Val. Acc: 62.89%\n",
      "Epoch: 18 | Epoch Time: 0m 7s\n",
      "\tTrain Loss: 0.543 | Train Acc: 68.42%\n",
      "\t Val. Loss: 0.618 |  Val. Acc: 63.02%\n",
      "Epoch: 19 | Epoch Time: 0m 7s\n",
      "\tTrain Loss: 0.533 | Train Acc: 69.02%\n",
      "\t Val. Loss: 0.617 |  Val. Acc: 63.93%\n",
      "Epoch: 20 | Epoch Time: 0m 7s\n",
      "\tTrain Loss: 0.564 | Train Acc: 67.92%\n",
      "\t Val. Loss: 0.631 |  Val. Acc: 61.72%\n"
     ]
    }
   ],
   "source": [
    "\n",
    "\n",
    "N_EPOCHS = 20\n",
    "\n",
    "best_valid_loss = float('inf')\n",
    "\n",
    "train_losses = []\n",
    "val_losses = []\n",
    "train_accuracy = []\n",
    "val_accuracy = []\n",
    "\n",
    "for epoch in range(N_EPOCHS):\n",
    "\n",
    "    start_time = time.time()\n",
    "\n",
    "    train_loss, train_acc = train(model, train_loader, optimizer, criterion)\n",
    "    valid_loss, valid_acc = evaluate(model, val_loader, criterion)\n",
    "\n",
    "    train_losses.append(train_loss)\n",
    "    train_accuracy.append(train_acc)\n",
    "    val_losses.append(valid_loss)\n",
    "    val_accuracy.append(valid_acc)\n",
    "\n",
    "    end_time = time.time()\n",
    "\n",
    "    epoch_mins, epoch_secs = epoch_time(start_time, end_time)\n",
    "\n",
    "    if valid_loss > best_valid_loss:\n",
    "        best_valid_loss = valid_loss\n",
    "        torch.save(model.state_dict(), 'models/rnn.pt')\n",
    "\n",
    "    print(f'Epoch: {epoch + 1:02} | Epoch Time: {epoch_mins}m {epoch_secs}s')\n",
    "    print(f'\\tTrain Loss: {train_loss:.3f} | Train Acc: {train_acc * 100:.2f}%')\n",
    "    print(f'\\t Val. Loss: {valid_loss:.3f} |  Val. Acc: {valid_acc * 100:.2f}%')"
   ]
  },
  {
   "cell_type": "code",
   "execution_count": 15,
   "outputs": [
    {
     "data": {
      "text/plain": "<Figure size 640x480 with 1 Axes>",
      "image/png": "[encoded data removed]"
     },
     "metadata": {},
     "output_type": "display_data"
    }
   ],
   "source": [
    "plt.plot(train_losses, label='train')\n",
    "plt.plot(val_losses, label='val')\n",
    "plt.xlabel(\"Epochs\")\n",
    "plt.ylabel(\"Loss\")\n",
    "plt.legend()\n",
    "plt.grid()\n",
    "plt.show()"
   ],
   "metadata": {
    "collapsed": false,
    "ExecuteTime": {
     "end_time": "2023-06-14T13:13:44.305433700Z",
     "start_time": "2023-06-14T13:13:44.125967100Z"
    }
   }
  },
  {
   "cell_type": "code",
   "execution_count": 16,
   "outputs": [
    {
     "data": {
      "text/plain": "<Figure size 640x480 with 1 Axes>",
      "image/png": "[encoded data removed]"
     },
     "metadata": {},
     "output_type": "display_data"
    }
   ],
   "source": [
    "plt.plot(train_accuracy, label='train')\n",
    "plt.plot(val_accuracy, label='val')\n",
    "plt.xlabel(\"Epochs\")\n",
    "plt.ylabel(\"Accuracy\")\n",
    "plt.legend()\n",
    "plt.grid()\n",
    "plt.show()"
   ],
   "metadata": {
    "collapsed": false,
    "ExecuteTime": {
     "end_time": "2023-06-14T13:13:44.452009200Z",
     "start_time": "2023-06-14T13:13:44.332362Z"
    }
   }
  }
 ],
 "metadata": {
  "kernelspec": {
   "display_name": "Python 3",
   "language": "python",
   "name": "python3"
  },
  "language_info": {
   "codemirror_mode": {
    "name": "ipython",
    "version": 3
   },
   "file_extension": ".py",
   "mimetype": "text/x-python",
   "name": "python",
   "nbconvert_exporter": "python",
   "pygments_lexer": "ipython3",
   "version": "3.8.5"
  }
 },
 "nbformat": 4,
 "nbformat_minor": 2
}
