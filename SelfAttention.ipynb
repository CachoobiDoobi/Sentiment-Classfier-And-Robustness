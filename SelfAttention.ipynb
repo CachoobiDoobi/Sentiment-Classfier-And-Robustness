{
 "cells": [
  {
   "cell_type": "code",
   "execution_count": 17,
   "metadata": {
    "ExecuteTime": {
     "end_time": "2023-06-17T11:52:50.664797300Z",
     "start_time": "2023-06-17T11:52:49.722278600Z"
    }
   },
   "outputs": [],
   "source": [
    "import matplotlib.pyplot as plt\n",
    "import numpy as np\n",
    "import torch\n",
    "import torch.nn as nn\n",
    "import torch.nn.functional as F\n",
    "import torch.optim as optim\n",
    "import torchtext.vocab as vocab\n",
    "from torchtext.data import get_tokenizer\n",
    "from torchtext.datasets import SST2\n",
    "from torch.utils.data import DataLoader\n",
    "from torchtext.vocab import build_vocab_from_iterator\n",
    "import spacy\n",
    "nlp = spacy.load(\"en_core_web_sm\")"
   ]
  },
  {
   "cell_type": "code",
   "execution_count": 18,
   "metadata": {
    "ExecuteTime": {
     "end_time": "2023-06-17T11:52:50.690517600Z",
     "start_time": "2023-06-17T11:52:50.666816700Z"
    }
   },
   "outputs": [],
   "source": [
    "device = torch.device('cuda' if torch.cuda.is_available() else 'cpu')\n",
    "%run models/SelfAttention.ipynb"
   ]
  },
  {
   "cell_type": "code",
   "execution_count": 19,
   "metadata": {
    "ExecuteTime": {
     "end_time": "2023-06-17T11:52:55.171070100Z",
     "start_time": "2023-06-17T11:52:50.694021500Z"
    }
   },
   "outputs": [],
   "source": [
    "train_iter = SST2(split=\"train\")\n",
    "val_iter = SST2(split=\"dev\")\n",
    "\n",
    "tokenizer = get_tokenizer('spacy')\n",
    "def yield_tokens(data_iter):\n",
    "    for text, _ in data_iter:\n",
    "        yield tokenizer(text)\n",
    "\n",
    "vocabulary = build_vocab_from_iterator(yield_tokens(train_iter), specials=[\"<unk>\"])\n",
    "vocabulary.set_default_index(vocabulary[\"<unk>\"])"
   ]
  },
  {
   "cell_type": "code",
   "execution_count": 20,
   "metadata": {
    "ExecuteTime": {
     "end_time": "2023-06-17T11:52:55.665199200Z",
     "start_time": "2023-06-17T11:52:55.176187100Z"
    }
   },
   "outputs": [],
   "source": [
    "glove_vectors = vocab.GloVe(name='6B', dim=100)\n",
    "vocabulary.vectors = glove_vectors.get_vecs_by_tokens(vocabulary.get_itos())"
   ]
  },
  {
   "cell_type": "code",
   "execution_count": 21,
   "metadata": {
    "ExecuteTime": {
     "end_time": "2023-06-17T11:52:55.674126400Z",
     "start_time": "2023-06-17T11:52:55.670612500Z"
    }
   },
   "outputs": [],
   "source": [
    "BATCH_SIZE = 128\n",
    "\n",
    "def collate(x):\n",
    "    batch = []\n",
    "    for item in x:\n",
    "        seq = []\n",
    "        for word in tokenizer(item[0]):\n",
    "            seq.append(vocabulary[word])\n",
    "        batch.append(torch.tensor(seq))\n",
    "    l = torch.tensor([item[1] for item in x]).unsqueeze(dim=1)\n",
    "    return nn.utils.rnn.pad_sequence(batch, padding_value=vocabulary[\"<pad>\"], batch_first=True), l"
   ]
  },
  {
   "cell_type": "code",
   "execution_count": 22,
   "metadata": {
    "ExecuteTime": {
     "end_time": "2023-06-17T11:52:55.680921300Z",
     "start_time": "2023-06-17T11:52:55.677893600Z"
    }
   },
   "outputs": [],
   "source": [
    "train_loader = DataLoader(train_iter, batch_size=BATCH_SIZE, collate_fn= lambda x : collate(x))\n",
    "val_loader = DataLoader(val_iter, batch_size=BATCH_SIZE, collate_fn= lambda x : collate(x))"
   ]
  },
  {
   "cell_type": "code",
   "execution_count": 23,
   "metadata": {
    "ExecuteTime": {
     "end_time": "2023-06-17T11:52:55.718653300Z",
     "start_time": "2023-06-17T11:52:55.682913100Z"
    }
   },
   "outputs": [],
   "source": [
    "EMBEDDING_DIM = 100\n",
    "HIDDEN_DIM = 100\n",
    "OUTPUT_DIM = 2\n",
    "DROPOUT = 0.1\n",
    "\n",
    "model = AttentionModel(vocabulary, EMBEDDING_DIM, HIDDEN_DIM, OUTPUT_DIM, DROPOUT)"
   ]
  },
  {
   "cell_type": "code",
   "execution_count": 24,
   "metadata": {
    "ExecuteTime": {
     "end_time": "2023-06-17T11:52:55.720648Z",
     "start_time": "2023-06-17T11:52:55.702679700Z"
    }
   },
   "outputs": [
    {
     "name": "stdout",
     "output_type": "stream",
     "text": [
      "The model has 40,602 trainable parameters\n"
     ]
    },
    {
     "data": {
      "text/plain": "AttentionModel(\n  (embedding): Embedding(13888, 100)\n  (posEncode): PositionalEncoding(\n    (dropout): Dropout(p=0.1, inplace=False)\n  )\n  (attention): SelfAttention(\n    (query): Linear(in_features=100, out_features=100, bias=True)\n    (key): Linear(in_features=100, out_features=100, bias=True)\n    (value): Linear(in_features=100, out_features=100, bias=True)\n    (softmax): Softmax(dim=1)\n  )\n  (fc1): Linear(in_features=100, out_features=100, bias=True)\n  (relu): ReLU()\n  (fc2): Linear(in_features=100, out_features=2, bias=True)\n)"
     },
     "execution_count": 24,
     "metadata": {},
     "output_type": "execute_result"
    }
   ],
   "source": [
    "def count_parameters(model):\n",
    "    return sum(p.numel() for p in model.parameters() if p.requires_grad)\n",
    "\n",
    "\n",
    "print(f'The model has {count_parameters(model):,} trainable parameters')\n",
    "model"
   ]
  },
  {
   "cell_type": "markdown",
   "metadata": {},
   "source": [
    "## Train the Model"
   ]
  },
  {
   "cell_type": "code",
   "execution_count": 25,
   "metadata": {
    "ExecuteTime": {
     "end_time": "2023-06-17T11:52:55.750199800Z",
     "start_time": "2023-06-17T11:52:55.716658600Z"
    }
   },
   "outputs": [],
   "source": [
    "optimizer = optim.Adam(model.parameters(), lr=0.001)\n",
    "criterion = nn.CrossEntropyLoss()\n",
    "model = model.to(device)\n",
    "model = model.float()\n",
    "criterion = criterion.to(device)"
   ]
  },
  {
   "cell_type": "code",
   "execution_count": 26,
   "metadata": {
    "ExecuteTime": {
     "end_time": "2023-06-17T11:52:55.751198400Z",
     "start_time": "2023-06-17T11:52:55.732555100Z"
    }
   },
   "outputs": [],
   "source": [
    "def binary_accuracy(preds, y):\n",
    "    # round predictions to the closest integer\n",
    "    rounded_preds = torch.round(torch.sigmoid(preds))\n",
    "    correct = (rounded_preds == y).float()  # convert into float for division\n",
    "    acc = correct.sum() / len(correct)\n",
    "    return acc"
   ]
  },
  {
   "cell_type": "code",
   "execution_count": 27,
   "metadata": {
    "ExecuteTime": {
     "end_time": "2023-06-17T11:52:55.837342800Z",
     "start_time": "2023-06-17T11:52:55.741570200Z"
    }
   },
   "outputs": [],
   "source": [
    "def train(model, iterator, optimizer, criterion):\n",
    "    epoch_loss = 0\n",
    "    epoch_acc = 0\n",
    "\n",
    "    model.train()\n",
    "    c= 0\n",
    "    for inputs, labels in iterator:\n",
    "        c+=1\n",
    "        inputs = inputs.to(device)\n",
    "        labels = labels.view(-1).to(device)\n",
    "        optimizer.zero_grad()\n",
    "        predictions, _ = model(inputs)\n",
    "        predictions = predictions.float()\n",
    "\n",
    "        loss = criterion(predictions, F.one_hot(labels, num_classes=2).float())\n",
    "        acc = binary_accuracy(predictions.argmax(-1), labels)\n",
    "\n",
    "        loss.backward()\n",
    "\n",
    "        optimizer.step()\n",
    "\n",
    "        epoch_loss += loss.item()\n",
    "        epoch_acc += acc.item()\n",
    "\n",
    "    return epoch_loss / c, epoch_acc / c"
   ]
  },
  {
   "cell_type": "code",
   "execution_count": 28,
   "metadata": {
    "ExecuteTime": {
     "end_time": "2023-06-17T11:52:55.838340600Z",
     "start_time": "2023-06-17T11:52:55.753191100Z"
    }
   },
   "outputs": [],
   "source": [
    "def evaluate(model, iterator, criterion):\n",
    "    epoch_loss = 0\n",
    "    epoch_acc = 0\n",
    "    c = 0\n",
    "    model.eval()\n",
    "\n",
    "    with torch.no_grad():\n",
    "        for inputs,labels in iterator:\n",
    "            c+=1\n",
    "            inputs = inputs.to(device)\n",
    "            labels = labels.view(-1).to(device)\n",
    "            predictions, _ = model(inputs)\n",
    "            predictions = predictions.float()\n",
    "            loss = criterion(predictions, F.one_hot(labels, num_classes=2).float())\n",
    "            acc = binary_accuracy(predictions.argmax(-1), labels)\n",
    "\n",
    "            epoch_loss += loss.item()\n",
    "            epoch_acc += acc.item()\n",
    "    return epoch_loss / c, epoch_acc / c"
   ]
  },
  {
   "cell_type": "code",
   "execution_count": 29,
   "metadata": {
    "ExecuteTime": {
     "end_time": "2023-06-17T11:52:55.839337400Z",
     "start_time": "2023-06-17T11:52:55.762214400Z"
    }
   },
   "outputs": [],
   "source": [
    "import time\n",
    "\n",
    "\n",
    "def epoch_time(start_time, end_time):\n",
    "    elapsed_time = end_time - start_time\n",
    "    elapsed_mins = int(elapsed_time / 60)\n",
    "    elapsed_secs = int(elapsed_time - (elapsed_mins * 60))\n",
    "    return elapsed_mins, elapsed_secs"
   ]
  },
  {
   "cell_type": "code",
   "execution_count": 30,
   "metadata": {
    "ExecuteTime": {
     "end_time": "2023-06-17T11:55:52.039649900Z",
     "start_time": "2023-06-17T11:52:55.776148400Z"
    }
   },
   "outputs": [
    {
     "name": "stdout",
     "output_type": "stream",
     "text": [
      "Epoch: 01 | Epoch Time: 0m 8s\n",
      "\tTrain Loss: 0.638 | Train Acc: 62.94%\n",
      "\t Val. Loss: 0.611 |  Val. Acc: 65.76%\n",
      "Epoch: 02 | Epoch Time: 0m 9s\n",
      "\tTrain Loss: 0.587 | Train Acc: 68.18%\n",
      "\t Val. Loss: 0.583 |  Val. Acc: 69.88%\n",
      "Epoch: 03 | Epoch Time: 0m 12s\n",
      "\tTrain Loss: 0.576 | Train Acc: 69.50%\n",
      "\t Val. Loss: 0.571 |  Val. Acc: 71.36%\n",
      "Epoch: 04 | Epoch Time: 0m 9s\n",
      "\tTrain Loss: 0.569 | Train Acc: 69.92%\n",
      "\t Val. Loss: 0.600 |  Val. Acc: 67.21%\n",
      "Epoch: 05 | Epoch Time: 0m 8s\n",
      "\tTrain Loss: 0.569 | Train Acc: 69.75%\n",
      "\t Val. Loss: 0.581 |  Val. Acc: 70.18%\n",
      "Epoch: 06 | Epoch Time: 0m 9s\n",
      "\tTrain Loss: 0.566 | Train Acc: 70.22%\n",
      "\t Val. Loss: 0.592 |  Val. Acc: 68.52%\n",
      "Epoch: 07 | Epoch Time: 0m 10s\n",
      "\tTrain Loss: 0.562 | Train Acc: 70.39%\n",
      "\t Val. Loss: 0.589 |  Val. Acc: 70.05%\n",
      "Epoch: 08 | Epoch Time: 0m 8s\n",
      "\tTrain Loss: 0.561 | Train Acc: 70.66%\n",
      "\t Val. Loss: 0.593 |  Val. Acc: 69.44%\n",
      "Epoch: 09 | Epoch Time: 0m 9s\n",
      "\tTrain Loss: 0.555 | Train Acc: 70.99%\n",
      "\t Val. Loss: 0.591 |  Val. Acc: 68.60%\n",
      "Epoch: 10 | Epoch Time: 0m 8s\n",
      "\tTrain Loss: 0.556 | Train Acc: 70.96%\n",
      "\t Val. Loss: 0.580 |  Val. Acc: 70.47%\n",
      "Epoch: 11 | Epoch Time: 0m 8s\n",
      "\tTrain Loss: 0.553 | Train Acc: 70.94%\n",
      "\t Val. Loss: 0.577 |  Val. Acc: 70.05%\n",
      "Epoch: 12 | Epoch Time: 0m 8s\n",
      "\tTrain Loss: 0.553 | Train Acc: 71.15%\n",
      "\t Val. Loss: 0.582 |  Val. Acc: 69.05%\n",
      "Epoch: 13 | Epoch Time: 0m 8s\n",
      "\tTrain Loss: 0.554 | Train Acc: 71.00%\n",
      "\t Val. Loss: 0.589 |  Val. Acc: 68.46%\n",
      "Epoch: 14 | Epoch Time: 0m 7s\n",
      "\tTrain Loss: 0.552 | Train Acc: 71.18%\n",
      "\t Val. Loss: 0.580 |  Val. Acc: 70.44%\n",
      "Epoch: 15 | Epoch Time: 0m 7s\n",
      "\tTrain Loss: 0.552 | Train Acc: 71.13%\n",
      "\t Val. Loss: 0.586 |  Val. Acc: 69.93%\n",
      "Epoch: 16 | Epoch Time: 0m 8s\n",
      "\tTrain Loss: 0.552 | Train Acc: 71.28%\n",
      "\t Val. Loss: 0.561 |  Val. Acc: 72.18%\n",
      "Epoch: 17 | Epoch Time: 0m 7s\n",
      "\tTrain Loss: 0.550 | Train Acc: 71.57%\n",
      "\t Val. Loss: 0.563 |  Val. Acc: 71.69%\n",
      "Epoch: 18 | Epoch Time: 0m 8s\n",
      "\tTrain Loss: 0.550 | Train Acc: 71.57%\n",
      "\t Val. Loss: 0.581 |  Val. Acc: 69.63%\n",
      "Epoch: 19 | Epoch Time: 0m 8s\n",
      "\tTrain Loss: 0.549 | Train Acc: 71.55%\n",
      "\t Val. Loss: 0.566 |  Val. Acc: 71.30%\n",
      "Epoch: 20 | Epoch Time: 0m 7s\n",
      "\tTrain Loss: 0.548 | Train Acc: 71.62%\n",
      "\t Val. Loss: 0.577 |  Val. Acc: 70.74%\n"
     ]
    }
   ],
   "source": [
    "N_EPOCHS = 20\n",
    "\n",
    "best_valid_loss = float('inf')\n",
    "\n",
    "train_losses = []\n",
    "val_losses = []\n",
    "train_accuracy = []\n",
    "val_accuracy = []\n",
    "\n",
    "for epoch in range(N_EPOCHS):\n",
    "\n",
    "    start_time = time.time()\n",
    "\n",
    "    train_loss, train_acc = train(model, train_loader, optimizer, criterion)\n",
    "    valid_loss, valid_acc = evaluate(model, val_loader, criterion)\n",
    "\n",
    "    train_losses.append(train_loss)\n",
    "    train_accuracy.append(train_acc)\n",
    "    val_losses.append(valid_loss)\n",
    "    val_accuracy.append(valid_acc)\n",
    "\n",
    "    end_time = time.time()\n",
    "\n",
    "    epoch_mins, epoch_secs = epoch_time(start_time, end_time)\n",
    "\n",
    "    if valid_loss < best_valid_loss:\n",
    "        best_valid_loss = valid_loss\n",
    "        torch.save(model.state_dict(), 'models/attention.pt')\n",
    "\n",
    "    print(f'Epoch: {epoch + 1:02} | Epoch Time: {epoch_mins}m {epoch_secs}s')\n",
    "    print(f'\\tTrain Loss: {train_loss:.3f} | Train Acc: {train_acc * 100:.2f}%')\n",
    "    print(f'\\t Val. Loss: {valid_loss:.3f} |  Val. Acc: {valid_acc * 100:.2f}%')"
   ]
  },
  {
   "cell_type": "code",
   "execution_count": 31,
   "metadata": {
    "ExecuteTime": {
     "end_time": "2023-06-17T11:55:52.179764500Z",
     "start_time": "2023-06-17T11:55:52.043453100Z"
    }
   },
   "outputs": [
    {
     "data": {
      "text/plain": "<Figure size 640x480 with 1 Axes>",
      "image/png": "[encoded data removed]"
     },
     "metadata": {},
     "output_type": "display_data"
    }
   ],
   "source": [
    "plt.plot(train_losses, label='train')\n",
    "plt.plot(val_losses, label='val')\n",
    "plt.xlabel(\"Epochs\")\n",
    "plt.ylabel(\"Loss\")\n",
    "plt.legend()\n",
    "plt.grid()\n",
    "plt.show()"
   ]
  },
  {
   "cell_type": "code",
   "execution_count": 32,
   "metadata": {
    "ExecuteTime": {
     "end_time": "2023-06-17T11:55:52.327423500Z",
     "start_time": "2023-06-17T11:55:52.207687900Z"
    }
   },
   "outputs": [
    {
     "data": {
      "text/plain": "<Figure size 640x480 with 1 Axes>",
      "image/png": "[encoded data removed]"
     },
     "metadata": {},
     "output_type": "display_data"
    }
   ],
   "source": [
    "plt.plot(train_accuracy, label='train')\n",
    "plt.plot(val_accuracy, label='val')\n",
    "plt.xlabel(\"Epochs\")\n",
    "plt.ylabel(\"Accuracy\")\n",
    "plt.legend()\n",
    "plt.grid()\n",
    "plt.show()"
   ]
  },
  {
   "cell_type": "code",
   "execution_count": 32,
   "metadata": {
    "ExecuteTime": {
     "end_time": "2023-06-17T11:55:52.330427400Z",
     "start_time": "2023-06-17T11:55:52.328435800Z"
    }
   },
   "outputs": [],
   "source": []
  }
 ],
 "metadata": {
  "kernelspec": {
   "name": "python3",
   "language": "python",
   "display_name": "Python 3 (ipykernel)"
  },
  "language_info": {
   "codemirror_mode": {
    "name": "ipython",
    "version": 3
   },
   "file_extension": ".py",
   "mimetype": "text/x-python",
   "name": "python",
   "nbconvert_exporter": "python",
   "pygments_lexer": "ipython3",
   "version": "3.10.11"
  }
 },
 "nbformat": 4,
 "nbformat_minor": 2
}
