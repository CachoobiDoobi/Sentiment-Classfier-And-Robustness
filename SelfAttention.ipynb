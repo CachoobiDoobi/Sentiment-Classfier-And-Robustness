{
 "cells": [
  {
   "cell_type": "code",
   "execution_count": 11,
   "metadata": {
    "ExecuteTime": {
     "end_time": "2023-06-14T08:56:17.516797100Z",
     "start_time": "2023-06-14T08:56:17.020936600Z"
    }
   },
   "outputs": [],
   "source": [
    "import matplotlib.pyplot as plt\n",
    "import numpy as np\n",
    "import torch\n",
    "import torch.nn as nn\n",
    "import torch.nn.functional as F\n",
    "import torch.optim as optim\n",
    "import torchtext.vocab as vocab\n",
    "from torchtext.data import get_tokenizer\n",
    "from torchtext.datasets import SST2\n",
    "from torch.utils.data import DataLoader\n",
    "from torchtext.vocab import build_vocab_from_iterator\n",
    "import spacy\n",
    "nlp = spacy.load(\"en_core_web_sm\")\n",
    "import OpenAttack as oa"
   ]
  },
  {
   "cell_type": "code",
   "execution_count": 12,
   "metadata": {
    "ExecuteTime": {
     "end_time": "2023-06-14T08:56:17.524825700Z",
     "start_time": "2023-06-14T08:56:17.511180500Z"
    }
   },
   "outputs": [],
   "source": [
    "device = torch.device('cuda' if torch.cuda.is_available() else 'cpu')\n",
    "%run models/SelfAttention.ipynb"
   ]
  },
  {
   "cell_type": "code",
   "execution_count": 13,
   "metadata": {
    "ExecuteTime": {
     "end_time": "2023-06-14T08:56:21.396175500Z",
     "start_time": "2023-06-14T08:56:17.985040100Z"
    }
   },
   "outputs": [],
   "source": [
    "train_iter = SST2(split=\"train\")\n",
    "val_iter = SST2(split=\"dev\")\n",
    "# test_iter = SST2(split=\"test\")\n",
    "\n",
    "tokenizer = get_tokenizer('spacy')\n",
    "def yield_tokens(data_iter):\n",
    "    for text, _ in data_iter:\n",
    "        yield tokenizer(text)\n",
    "\n",
    "vocabulary = build_vocab_from_iterator(yield_tokens(train_iter), specials=[\"<unk>\"])\n",
    "vocabulary.set_default_index(vocabulary[\"<unk>\"])"
   ]
  },
  {
   "cell_type": "code",
   "execution_count": 14,
   "metadata": {
    "ExecuteTime": {
     "end_time": "2023-06-14T08:56:29.635705400Z",
     "start_time": "2023-06-14T08:56:29.048663100Z"
    }
   },
   "outputs": [],
   "source": [
    "glove_vectors = vocab.GloVe(name='6B', dim=100)\n",
    "vocabulary.vectors = glove_vectors.get_vecs_by_tokens(vocabulary.get_itos())"
   ]
  },
  {
   "cell_type": "code",
   "execution_count": 15,
   "metadata": {
    "ExecuteTime": {
     "end_time": "2023-06-14T08:56:30.413057700Z",
     "start_time": "2023-06-14T08:56:30.399992900Z"
    }
   },
   "outputs": [],
   "source": [
    "BATCH_SIZE = 128\n",
    "MAX_VOCAB_SIZE = 400000\n",
    "\n",
    "def collate(x):\n",
    "    batch = []\n",
    "    for item in x:\n",
    "        seq = []\n",
    "        for word in tokenizer(item[0]):\n",
    "            seq.append(vocabulary[word])\n",
    "        batch.append(torch.tensor(seq))\n",
    "    l = torch.tensor([item[1] for item in x]).unsqueeze(dim=1)\n",
    "    return nn.utils.rnn.pad_sequence(batch, padding_value=vocabulary[\"<pad>\"], batch_first=True), l"
   ]
  },
  {
   "cell_type": "code",
   "execution_count": 16,
   "metadata": {
    "ExecuteTime": {
     "end_time": "2023-06-14T08:56:31.839937800Z",
     "start_time": "2023-06-14T08:56:31.816394900Z"
    }
   },
   "outputs": [],
   "source": [
    "train_loader = DataLoader(train_iter, batch_size=BATCH_SIZE, collate_fn= lambda x : collate(x))\n",
    "val_loader = DataLoader(val_iter, batch_size=BATCH_SIZE, collate_fn= lambda x : collate(x))"
   ]
  },
  {
   "cell_type": "code",
   "execution_count": 17,
   "metadata": {
    "ExecuteTime": {
     "end_time": "2023-06-14T08:56:32.262482700Z",
     "start_time": "2023-06-14T08:56:32.233975200Z"
    }
   },
   "outputs": [],
   "source": [
    "EMBEDDING_DIM = 100\n",
    "HIDDEN_DIM = 256\n",
    "OUTPUT_DIM = 2\n",
    "DROPOUT = 0.1\n",
    "\n",
    "model = AttentionModel(vocabulary, EMBEDDING_DIM, HIDDEN_DIM, OUTPUT_DIM, DROPOUT)"
   ]
  },
  {
   "cell_type": "code",
   "execution_count": 18,
   "metadata": {
    "ExecuteTime": {
     "end_time": "2023-06-14T08:56:33.656142600Z",
     "start_time": "2023-06-14T08:56:33.641996400Z"
    }
   },
   "outputs": [
    {
     "name": "stdout",
     "output_type": "stream",
     "text": [
      "The model has 56,670 trainable parameters\n"
     ]
    },
    {
     "data": {
      "text/plain": "AttentionModel(\n  (embed): Embedding(13888, 100)\n  (posEncode): PositionalEncoding(\n    (dropout): Dropout(p=0.1, inplace=False)\n  )\n  (attention): SelfAttention(\n    (query): Linear(in_features=100, out_features=100, bias=True)\n    (key): Linear(in_features=100, out_features=100, bias=True)\n    (value): Linear(in_features=100, out_features=100, bias=True)\n    (softmax): Softmax(dim=2)\n  )\n  (fc1): Linear(in_features=100, out_features=256, bias=True)\n  (relu): ReLU()\n  (fc2): Linear(in_features=256, out_features=2, bias=True)\n)"
     },
     "execution_count": 18,
     "metadata": {},
     "output_type": "execute_result"
    }
   ],
   "source": [
    "def count_parameters(model):\n",
    "    return sum(p.numel() for p in model.parameters() if p.requires_grad)\n",
    "\n",
    "\n",
    "print(f'The model has {count_parameters(model):,} trainable parameters')\n",
    "model"
   ]
  },
  {
   "cell_type": "markdown",
   "metadata": {},
   "source": [
    "## Train the Model"
   ]
  },
  {
   "cell_type": "code",
   "execution_count": 19,
   "metadata": {
    "ExecuteTime": {
     "end_time": "2023-06-14T08:56:49.264131200Z",
     "start_time": "2023-06-14T08:56:49.013077100Z"
    }
   },
   "outputs": [],
   "source": [
    "optimizer = optim.Adam(model.parameters(), lr=0.001)\n",
    "criterion = nn.CrossEntropyLoss()\n",
    "model = model.to(device)\n",
    "model = model.float()\n",
    "criterion = criterion.to(device)"
   ]
  },
  {
   "cell_type": "code",
   "execution_count": 20,
   "metadata": {
    "ExecuteTime": {
     "end_time": "2023-06-14T08:56:49.894516200Z",
     "start_time": "2023-06-14T08:56:49.868529900Z"
    }
   },
   "outputs": [],
   "source": [
    "def binary_accuracy(preds, y):\n",
    "    # round predictions to the closest integer\n",
    "    rounded_preds = torch.round(torch.sigmoid(preds))\n",
    "    correct = (rounded_preds == y).float()  # convert into float for division\n",
    "    acc = correct.sum() / len(correct)\n",
    "    return acc"
   ]
  },
  {
   "cell_type": "code",
   "execution_count": 21,
   "metadata": {
    "ExecuteTime": {
     "end_time": "2023-06-14T08:56:50.421318500Z",
     "start_time": "2023-06-14T08:56:50.398517Z"
    }
   },
   "outputs": [],
   "source": [
    "def train(model, iterator, optimizer, criterion):\n",
    "    epoch_loss = 0\n",
    "    epoch_acc = 0\n",
    "\n",
    "    model.train()\n",
    "    c= 0\n",
    "    for inputs, labels in iterator:\n",
    "        c+=1\n",
    "        inputs = inputs.to(device)\n",
    "        labels = labels.view(-1).to(device)\n",
    "        optimizer.zero_grad()\n",
    "        predictions, _ = model(inputs)\n",
    "        predictions = predictions.float()\n",
    "\n",
    "        loss = criterion(predictions, F.one_hot(labels, num_classes=2).float())\n",
    "        acc = binary_accuracy(predictions.argmax(-1), labels)\n",
    "\n",
    "        loss.backward()\n",
    "\n",
    "        optimizer.step()\n",
    "\n",
    "        epoch_loss += loss.item()\n",
    "        epoch_acc += acc.item()\n",
    "\n",
    "    return epoch_loss / c, epoch_acc / c"
   ]
  },
  {
   "cell_type": "code",
   "execution_count": 22,
   "metadata": {
    "ExecuteTime": {
     "end_time": "2023-06-14T08:56:51.111842900Z",
     "start_time": "2023-06-14T08:56:51.093037300Z"
    }
   },
   "outputs": [],
   "source": [
    "def evaluate(model, iterator, criterion):\n",
    "    epoch_loss = 0\n",
    "    epoch_acc = 0\n",
    "    c = 0\n",
    "    model.eval()\n",
    "\n",
    "    with torch.no_grad():\n",
    "        for inputs,labels in iterator:\n",
    "            c+=1\n",
    "            inputs = inputs.to(device)\n",
    "            labels = labels.view(-1).to(device)\n",
    "            predictions, _ = model(inputs)\n",
    "            predictions = predictions.float()\n",
    "            loss = criterion(predictions, F.one_hot(labels, num_classes=2).float())\n",
    "            acc = binary_accuracy(predictions.argmax(-1), labels)\n",
    "\n",
    "            epoch_loss += loss.item()\n",
    "            epoch_acc += acc.item()\n",
    "    return epoch_loss / c, epoch_acc / c"
   ]
  },
  {
   "cell_type": "code",
   "execution_count": 23,
   "metadata": {
    "ExecuteTime": {
     "end_time": "2023-06-14T08:56:51.392504600Z",
     "start_time": "2023-06-14T08:56:51.367737400Z"
    }
   },
   "outputs": [],
   "source": [
    "import time\n",
    "\n",
    "\n",
    "def epoch_time(start_time, end_time):\n",
    "    elapsed_time = end_time - start_time\n",
    "    elapsed_mins = int(elapsed_time / 60)\n",
    "    elapsed_secs = int(elapsed_time - (elapsed_mins * 60))\n",
    "    return elapsed_mins, elapsed_secs"
   ]
  },
  {
   "cell_type": "code",
   "execution_count": 24,
   "metadata": {
    "ExecuteTime": {
     "end_time": "2023-06-14T08:59:26.352891800Z",
     "start_time": "2023-06-14T08:56:51.845391100Z"
    }
   },
   "outputs": [
    {
     "name": "stdout",
     "output_type": "stream",
     "text": [
      "Epoch: 01 | Epoch Time: 0m 9s\n",
      "\tTrain Loss: 0.483 | Train Acc: 75.91%\n",
      "\t Val. Loss: 0.498 |  Val. Acc: 75.29%\n",
      "Epoch: 02 | Epoch Time: 0m 7s\n",
      "\tTrain Loss: 0.442 | Train Acc: 79.05%\n",
      "\t Val. Loss: 0.479 |  Val. Acc: 76.79%\n",
      "Epoch: 03 | Epoch Time: 0m 9s\n",
      "\tTrain Loss: 0.430 | Train Acc: 79.58%\n",
      "\t Val. Loss: 0.475 |  Val. Acc: 77.76%\n",
      "Epoch: 04 | Epoch Time: 0m 7s\n",
      "\tTrain Loss: 0.419 | Train Acc: 80.44%\n",
      "\t Val. Loss: 0.470 |  Val. Acc: 77.26%\n",
      "Epoch: 05 | Epoch Time: 0m 7s\n",
      "\tTrain Loss: 0.411 | Train Acc: 80.92%\n",
      "\t Val. Loss: 0.477 |  Val. Acc: 77.28%\n",
      "Epoch: 06 | Epoch Time: 0m 7s\n",
      "\tTrain Loss: 0.405 | Train Acc: 81.27%\n",
      "\t Val. Loss: 0.474 |  Val. Acc: 77.23%\n",
      "Epoch: 07 | Epoch Time: 0m 7s\n",
      "\tTrain Loss: 0.400 | Train Acc: 81.60%\n",
      "\t Val. Loss: 0.470 |  Val. Acc: 77.74%\n",
      "Epoch: 08 | Epoch Time: 0m 7s\n",
      "\tTrain Loss: 0.396 | Train Acc: 81.97%\n",
      "\t Val. Loss: 0.470 |  Val. Acc: 78.51%\n",
      "Epoch: 09 | Epoch Time: 0m 7s\n",
      "\tTrain Loss: 0.390 | Train Acc: 82.24%\n",
      "\t Val. Loss: 0.464 |  Val. Acc: 78.12%\n",
      "Epoch: 10 | Epoch Time: 0m 7s\n",
      "\tTrain Loss: 0.387 | Train Acc: 82.27%\n",
      "\t Val. Loss: 0.462 |  Val. Acc: 78.26%\n",
      "Epoch: 11 | Epoch Time: 0m 7s\n",
      "\tTrain Loss: 0.383 | Train Acc: 82.64%\n",
      "\t Val. Loss: 0.465 |  Val. Acc: 77.34%\n",
      "Epoch: 12 | Epoch Time: 0m 7s\n",
      "\tTrain Loss: 0.381 | Train Acc: 82.67%\n",
      "\t Val. Loss: 0.458 |  Val. Acc: 77.98%\n",
      "Epoch: 13 | Epoch Time: 0m 7s\n",
      "\tTrain Loss: 0.378 | Train Acc: 82.69%\n",
      "\t Val. Loss: 0.466 |  Val. Acc: 78.15%\n",
      "Epoch: 14 | Epoch Time: 0m 7s\n",
      "\tTrain Loss: 0.374 | Train Acc: 82.95%\n",
      "\t Val. Loss: 0.465 |  Val. Acc: 78.29%\n",
      "Epoch: 15 | Epoch Time: 0m 7s\n",
      "\tTrain Loss: 0.373 | Train Acc: 83.11%\n",
      "\t Val. Loss: 0.485 |  Val. Acc: 77.07%\n",
      "Epoch: 16 | Epoch Time: 0m 8s\n",
      "\tTrain Loss: 0.370 | Train Acc: 83.26%\n",
      "\t Val. Loss: 0.469 |  Val. Acc: 77.07%\n",
      "Epoch: 17 | Epoch Time: 0m 9s\n",
      "\tTrain Loss: 0.365 | Train Acc: 83.65%\n",
      "\t Val. Loss: 0.475 |  Val. Acc: 77.48%\n",
      "Epoch: 18 | Epoch Time: 0m 9s\n",
      "\tTrain Loss: 0.363 | Train Acc: 83.68%\n",
      "\t Val. Loss: 0.468 |  Val. Acc: 77.20%\n",
      "Epoch: 19 | Epoch Time: 0m 6s\n",
      "\tTrain Loss: 0.360 | Train Acc: 83.78%\n",
      "\t Val. Loss: 0.490 |  Val. Acc: 76.29%\n",
      "Epoch: 20 | Epoch Time: 0m 6s\n",
      "\tTrain Loss: 0.358 | Train Acc: 83.93%\n",
      "\t Val. Loss: 0.469 |  Val. Acc: 78.34%\n"
     ]
    }
   ],
   "source": [
    "N_EPOCHS = 20\n",
    "\n",
    "best_valid_loss = float('inf')\n",
    "\n",
    "train_losses = []\n",
    "val_losses = []\n",
    "train_accuracy = []\n",
    "val_accuracy = []\n",
    "\n",
    "for epoch in range(N_EPOCHS):\n",
    "\n",
    "    start_time = time.time()\n",
    "\n",
    "    train_loss, train_acc = train(model, train_loader, optimizer, criterion)\n",
    "    valid_loss, valid_acc = evaluate(model, val_loader, criterion)\n",
    "\n",
    "    train_losses.append(train_loss)\n",
    "    train_accuracy.append(train_acc)\n",
    "    val_losses.append(valid_loss)\n",
    "    val_accuracy.append(valid_acc)\n",
    "\n",
    "    end_time = time.time()\n",
    "\n",
    "    epoch_mins, epoch_secs = epoch_time(start_time, end_time)\n",
    "\n",
    "    if valid_loss < best_valid_loss:\n",
    "        best_valid_loss = valid_loss\n",
    "        torch.save(model.state_dict(), 'models/attention.pt')\n",
    "\n",
    "    print(f'Epoch: {epoch + 1:02} | Epoch Time: {epoch_mins}m {epoch_secs}s')\n",
    "    print(f'\\tTrain Loss: {train_loss:.3f} | Train Acc: {train_acc * 100:.2f}%')\n",
    "    print(f'\\t Val. Loss: {valid_loss:.3f} |  Val. Acc: {valid_acc * 100:.2f}%')"
   ]
  },
  {
   "cell_type": "code",
   "execution_count": 25,
   "metadata": {
    "ExecuteTime": {
     "end_time": "2023-06-14T09:00:23.227636500Z",
     "start_time": "2023-06-14T09:00:23.052513Z"
    }
   },
   "outputs": [
    {
     "data": {
      "text/plain": "<Figure size 640x480 with 1 Axes>",
      "image/png": "[encoded data removed]"
     },
     "metadata": {},
     "output_type": "display_data"
    }
   ],
   "source": [
    "plt.plot(train_losses, label='train')\n",
    "plt.plot(val_losses, label='val')\n",
    "plt.xlabel(\"Epochs\")\n",
    "plt.ylabel(\"Loss\")\n",
    "plt.legend()\n",
    "plt.grid()\n",
    "plt.show()"
   ]
  },
  {
   "cell_type": "code",
   "execution_count": 26,
   "metadata": {
    "ExecuteTime": {
     "end_time": "2023-06-14T09:00:25.992667300Z",
     "start_time": "2023-06-14T09:00:25.847738100Z"
    }
   },
   "outputs": [
    {
     "data": {
      "text/plain": "<Figure size 640x480 with 1 Axes>",
      "image/png": "[encoded data removed]"
     },
     "metadata": {},
     "output_type": "display_data"
    }
   ],
   "source": [
    "plt.plot(train_accuracy, label='train')\n",
    "plt.plot(val_accuracy, label='val')\n",
    "plt.xlabel(\"Epochs\")\n",
    "plt.ylabel(\"Accuracy\")\n",
    "plt.legend()\n",
    "plt.grid()\n",
    "plt.show()"
   ]
  },
  {
   "cell_type": "code",
   "execution_count": null,
   "metadata": {
    "ExecuteTime": {
     "start_time": "2023-06-13T21:11:40.929838Z"
    }
   },
   "outputs": [],
   "source": []
  }
 ],
 "metadata": {
  "kernelspec": {
   "name": "python3",
   "language": "python",
   "display_name": "Python 3 (ipykernel)"
  },
  "language_info": {
   "codemirror_mode": {
    "name": "ipython",
    "version": 3
   },
   "file_extension": ".py",
   "mimetype": "text/x-python",
   "name": "python",
   "nbconvert_exporter": "python",
   "pygments_lexer": "ipython3",
   "version": "3.10.11"
  }
 },
 "nbformat": 4,
 "nbformat_minor": 2
}
